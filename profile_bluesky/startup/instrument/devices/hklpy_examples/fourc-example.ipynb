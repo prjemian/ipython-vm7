{
 "cells": [
  {
   "cell_type": "markdown",
   "execution_count": null,
   "metadata": {},
   "outputs": [],
   "source": [
    "# Four-Circle example (E4C)"
   ]
  },
  {
   "cell_type": "code",
   "execution_count": 9,
   "metadata": {},
   "outputs": [],
   "source": [
    "import numpy as np\n",
    "import matplotlib.pyplot as plt\n",
    "\n",
    "import logging\n",
    "logger = logging.getLogger(\"notebook\")\n",
    "logger.setLevel(logging.INFO)\n",
    "\n",
    "import gi\n",
    "gi.require_version('Hkl', '5.0')\n",
    "\n",
    "from hkl.diffract import E4CV\n",
    "from hkl.util import Lattice\n",
    "\n",
    "from bluesky import plans as bp\n",
    "from bluesky import plan_stubs as bps\n",
    "from bluesky import RunEngine\n",
    "RE = RunEngine({})\n",
    "from bluesky.callbacks.best_effort import BestEffortCallback\n",
    "bec = BestEffortCallback()\n",
    "RE.subscribe(bec)\n",
    "\n",
    "from ophyd import Component\n",
    "from ophyd import PseudoSingle\n",
    "from ophyd import SoftPositioner\n",
    "\n",
    "import diffractometer\n",
    "\n",
    "import pyRestTable"
   ]
  },
  {
   "cell_type": "code",
   "execution_count": 10,
   "metadata": {},
   "outputs": [],
   "source": [
    "# describe the diffractometer\n",
    "class FourCircleDiffractometer(diffractometer.DiffractometerMixin, E4CV):\n",
    "    h = Component(PseudoSingle, '', labels=(\"hkl\", \"fourc\"))\n",
    "    k = Component(PseudoSingle, '', labels=(\"hkl\", \"fourc\"))\n",
    "    l = Component(PseudoSingle, '', labels=(\"hkl\", \"fourc\"))\n",
    "\n",
    "    omega = Component(SoftPositioner, labels=(\"motor\", \"fourc\"))\n",
    "    chi   = Component(SoftPositioner, labels=(\"motor\", \"fourc\"))\n",
    "    phi   = Component(SoftPositioner, labels=(\"motor\", \"fourc\"))\n",
    "    tth   = Component(SoftPositioner, labels=(\"motor\", \"fourc\"))\n",
    "\n",
    "    def __init__(self, *args, **kwargs):\n",
    "        super().__init__(*args, **kwargs)\n",
    "\n",
    "        # since this diffractometer uses simulated motors,\n",
    "        # prime the SoftPositioners (motors) with initial values\n",
    "        # otherwise, position == None --> describe, etc gets borked\n",
    "        for axis in (self.omega, self.phi, self.chi, self.tth):\n",
    "            axis.move(0)"
   ]
  },
  {
   "cell_type": "code",
   "execution_count": 11,
   "metadata": {},
   "outputs": [
    {
     "name": "stdout",
     "output_type": "stream",
     "text": "fourc modes: ['bissector', 'constant_omega', 'constant_chi', 'constant_phi', 'double_diffraction', 'psi_constant']\nselected mode: bissector\n"
    }
   ],
   "source": [
    "# initialize the calculation engine\n",
    "fourc = FourCircleDiffractometer('', name='fourc', labels=(\"diffractometer\", \"fourc\"))\n",
    "fourc.calc.engine.mode = fourc.engine.modes[0]  # 'bissector' - constrain tth = 2 * omega\n",
    "fourc.wavelength = 12.3984244 / 8.04  # Cu Kalpha (angstrom, since that is used in hkl)\n",
    "\n",
    "print(f\"{fourc.name} modes: {fourc.engine.modes}\")\n",
    "print(f\"selected mode: {fourc.calc.engine.mode}\")"
   ]
  },
  {
   "cell_type": "code",
   "execution_count": 12,
   "metadata": {},
   "outputs": [
    {
     "data": {
      "text/plain": "HklSample(name='Mn3O4/MgO thin film', lattice=LatticeTuple(a=5.72, b=5.72, c=9.5, alpha=90.0, beta=90.0, gamma=90.0), ux=Parameter(name='None (internally: ux)', limits=(min=-180.0, max=180.0), value=0.0, fit=True, inverted=False, units='Degree'), uy=Parameter(name='None (internally: uy)', limits=(min=-180.0, max=180.0), value=0.0, fit=True, inverted=False, units='Degree'), uz=Parameter(name='None (internally: uz)', limits=(min=-180.0, max=180.0), value=0.0, fit=True, inverted=False, units='Degree'), U=array([[1., 0., 0.],\n       [0., 1., 0.],\n       [0., 0., 1.]]), UB=array([[ 1.09845897e+00, -6.72612131e-17, -4.04983304e-17],\n       [ 0.00000000e+00,  1.09845897e+00, -4.04983304e-17],\n       [ 0.00000000e+00,  0.00000000e+00,  6.61387927e-01]]), reflections=[])"
     },
     "execution_count": 12,
     "metadata": {},
     "output_type": "execute_result"
    }
   ],
   "source": [
    "# add a sample\n",
    "fourc.calc.new_sample('Mn3O4/MgO thin film', \n",
    "    lattice=Lattice(\n",
    "        a=5.72, b=5.72, c=9.5, \n",
    "        alpha=90.0, beta=90.0, gamma=90.0))\n"
   ]
  },
  {
   "cell_type": "code",
   "execution_count": 13,
   "metadata": {},
   "outputs": [
    {
     "data": {
      "text/plain": "1"
     },
     "execution_count": 13,
     "metadata": {},
     "output_type": "execute_result"
    }
   ],
   "source": [
    "# use two known reflections to define the orientation\n",
    "r1 = fourc.calc.sample.add_reflection(\n",
    "    -1.998, -1.994, 4.011,\n",
    "    position=fourc.calc.Position(\n",
    "        tth=80.8769, omega=40.6148, chi=0.647, phi=-121.717))\n",
    "r2 = fourc.calc.sample.add_reflection(\n",
    "    -0.997, -0.997, 2.009,\n",
    "    position=fourc.calc.Position(\n",
    "        tth=28.695, omega=14.4651, chi=-48.8860, phi=-88.758))\n",
    "fourc.calc.sample.compute_UB(r1, r2)"
   ]
  },
  {
   "cell_type": "code",
   "execution_count": 20,
   "metadata": {},
   "outputs": [
    {
     "name": "stdout",
     "output_type": "stream",
     "text": "===== =================== ================== ===== ====\naxis  low_limit           high_limit         value fit \n===== =================== ================== ===== ====\nomega -119.99999999999999 150.0              0.0   True\nchi   -150.0              119.99999999999999 0.0   True\nphi   -180.0              180.0              0.0   True\ntth   -10.0               142.0              0.0   True\n===== =================== ================== ===== ====\n\n"
    }
   ],
   "source": [
    "# apply some constraints\n",
    "diffractometer_constraints = {\n",
    "    # axis: diffractometer.AxisConstraints(lo_limit, hi_limit, value, fit)\n",
    "    \"omega\": diffractometer.AxisConstraints(-120, 150, 0, True),\n",
    "    \"chi\": diffractometer.AxisConstraints(-150, 120, 0, True),\n",
    "    # \"phi\": diffractometer.AxisConstraints(0, 0, 0, False),\n",
    "    \"tth\": diffractometer.AxisConstraints(-10, 142, 0, True),\n",
    "}\n",
    "\n",
    "fourc.applyConstraints(diffractometer_constraints)\n",
    "fourc.showConstraints()\n"
   ]
  },
  {
   "cell_type": "code",
   "execution_count": 21,
   "metadata": {},
   "outputs": [],
   "source": [
    "detectors = [\n",
    "    fourc.h, fourc.k, fourc.l,\n",
    "    # fourc.omega, fourc.chi, fourc.phi, fourc.tth,\n",
    "    # I0Mon, diode, scint,\n",
    "    ]"
   ]
  },
  {
   "cell_type": "code",
   "execution_count": 22,
   "metadata": {},
   "outputs": [
    {
     "name": "stdout",
     "output_type": "stream",
     "text": "Transient Scan ID: 2     Time: 2020-02-26 01:36:46\nPersistent Unique Scan ID: '240c7363-c3f4-49d8-a642-bf865340fc66'\nNew stream: 'primary'\n+-----------+------------+------------+------------+------------+\n|   seq_num |       time |    fourc_l |    fourc_k |    fourc_h |\n+-----------+------------+------------+------------+------------+\n|         1 | 01:36:46.2 |      0.500 |     -0.000 |     -0.000 |\n|         2 | 01:36:46.2 |      0.600 |      0.000 |     -0.000 |\n|         3 | 01:36:46.2 |      0.700 |     -0.000 |     -0.000 |\n|         4 | 01:36:46.3 |      0.800 |      0.000 |     -0.000 |\n|         5 | 01:36:46.3 |      0.900 |      0.000 |     -0.000 |\n|         6 | 01:36:46.3 |      1.000 |      0.000 |     -0.000 |\n|         7 | 01:36:46.3 |      1.100 |      0.000 |     -0.000 |\n|         8 | 01:36:46.3 |      1.200 |     -0.000 |     -0.000 |\n|         9 | 01:36:46.4 |      1.300 |      0.000 |     -0.000 |\n|        10 | 01:36:46.4 |      1.400 |     -0.000 |     -0.000 |\n|        11 | 01:36:46.4 |      1.500 |      0.000 |     -0.000 |\n+-----------+------------+------------+------------+------------+\ngenerator scan ['240c7363'] (scan num: 2)\n\n\n\n"
    },
    {
     "data": {
      "text/plain": "('240c7363-c3f4-49d8-a642-bf865340fc66',)"
     },
     "execution_count": 22,
     "metadata": {},
     "output_type": "execute_result"
    }
   ],
   "source": [
    "bec.disable_plots()\n",
    "RE(bp.scan(detectors, fourc.l, 0.5, 1.5, 11))"
   ]
  },
  {
   "cell_type": "code",
   "execution_count": null,
   "metadata": {},
   "outputs": [],
   "source": []
  }
 ],
 "metadata": {
  "kernelspec": {
   "display_name": "Python 3",
   "language": "python",
   "name": "python3"
  },
  "language_info": {
   "codemirror_mode": {
    "name": "ipython",
    "version": 3
   },
   "file_extension": ".py",
   "mimetype": "text/x-python",
   "name": "python",
   "nbconvert_exporter": "python",
   "pygments_lexer": "ipython3",
   "version": "3.7.6-final"
  }
 },
 "nbformat": 4,
 "nbformat_minor": 4
}