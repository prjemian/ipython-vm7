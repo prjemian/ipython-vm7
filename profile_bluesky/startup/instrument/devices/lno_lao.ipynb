{
 "cells": [
  {
   "cell_type": "markdown",
   "metadata": {},
   "source": [
    "Four-circle diffractometer example\n",
    "\n",
    "```\n",
    "sample: LNO_LAO\n",
    "crystal:  3.781726143 3.791444574 3.79890313 90.2546203 90.01815424 89.89967858\n",
    "geometry: fourc\n",
    "mode: 0 (Omega equals zero)\n",
    "lambda: 1.239424258\n",
    "r1: (0, 0, 2) 38.09875 19.1335 90.0135 0\n",
    "r2: (1, 1, 3) 65.644 32.82125 115.23625 48.1315\n",
    "Q: (2, 2, 1.9) 67.78225 33.891 145.985 48.22875 -0.001 -0.16\n",
    "UB: -1.658712442 0.09820024135 -0.000389705578\n",
    "    -0.09554990312 -1.654278629 0.00242844486\n",
    "    0.0002629818914 0.009815746824 1.653961812\n",
    "\n",
    "#F /.../LNO_LAO\n",
    "#E 1276730676\n",
    "#D Wed Jun 16 18:24:36 2010\n",
    "#C LNO_LAO  User = epix33bm\n",
    "#O0  2-theta     theta       chi       phi   antheta  an2theta    z-axis     m_1_8\n",
    "#O1      xt1       yt1       yt2       yt3     m_2_5       zt1      samx      samz\n",
    "#O2 DCM.theta       wst       wsl       wsb       wsr       m22  \n",
    "#G0 0 0 1 0 0 1 0 0 0 0 0 0 50 0 0.1 0 68 68 50 -1 1 1 3.13542 3.13542 0 463.6 838.8\n",
    "#G1 3.781726143 3.791444574 3.79890313 90.2546203 90.01815424 89.89967858 1.661462253 1.657219786 1.65396364 89.74541108 89.98229138 90.10024173 0 0 2 1 1 3 38.09875 19.1335 90.0135 0 0 0 65.644 32.82125 115.23625 48.1315 0 0 1.239424258 1.239424258\n",
    "#G3 -1.658712442 0.09820024135 -0.000389705578 -0.09554990312 -1.654278629 0.00242844486 0.0002629818914 0.009815746824 1.653961812\n",
    "#G4 1.999995696 1.999999878 1.899998938 1.239424258 18.09198724 18.2076099 0 89.92021031 0.7 0 0 0 0 0 0 0 -180 -180 -180 -180 -180 -180 -180 -180 -180 0\n",
    "#Q 2 2 1.9\n",
    "#P0 67.78225 33.891 145.985 48.22875 -0.001 -0.16 2.5 -0.2\n",
    "#P1 -3.4480499 0.49927508 0.030010083 0.499275 1.749425 -113.52071 -946.48814 0\n",
    "#P2 11.508019 2.9999781 30.000019 2.9999781 29.999854 1230.0415 \n",
    "#U DCM_energy 9.99904\n",
    "```"
   ]
  },
  {
   "cell_type": "code",
   "execution_count": null,
   "metadata": {},
   "outputs": [],
   "source": [
    "import gi\n",
    "gi.require_version('Hkl', '5.0')\n",
    "from hkl.diffract import E4CH  #this works for mu=0\n",
    "from hkl.util import Lattice\n",
    "\n",
    "from apstools.diffractometer import Constraint, DiffractometerMixin\n",
    "from ophyd import Component, PseudoSingle, SoftPositioner"
   ]
  },
  {
   "cell_type": "code",
   "execution_count": null,
   "metadata": {},
   "outputs": [],
   "source": [
    "class FourCircleDiffractometer(DiffractometerMixin, E4CV):\n",
    "    h = Component(PseudoSingle, '', labels=(\"hkl\", \"fourc\"))\n",
    "    k = Component(PseudoSingle, '', labels=(\"hkl\", \"fourc\"))\n",
    "    l = Component(PseudoSingle, '', labels=(\"hkl\", \"fourc\"))\n",
    "\n",
    "    omega = Component(SoftPositioner, labels=(\"motor\", \"fourc\"))\n",
    "    chi   = Component(SoftPositioner, labels=(\"motor\", \"fourc\"))\n",
    "    phi   = Component(SoftPositioner, labels=(\"motor\", \"fourc\"))\n",
    "    tth   = Component(SoftPositioner, labels=(\"motor\", \"fourc\"))\n",
    "\n",
    "    def __init__(self, *args, **kwargs):\n",
    "        super().__init__(*args, **kwargs)\n",
    "\n",
    "        # since this diffractometer uses simulated motors,\n",
    "        # prime the SoftPositioners (motors) with initial values\n",
    "        # otherwise, position == None --> describe, etc gets borked\n",
    "        for axis in (self.omega, self.phi, self.chi, self.tth):\n",
    "            axis.move(0)\n",
    "\n",
    "\n",
    "fourc = FourCircleDiffractometer(\n",
    "    '', \n",
    "    name='fourc', \n",
    "    labels=(\"diffractometer\", \"fourc\"))"
   ]
  }
 ],
 "metadata": {
  "file_extension": ".py",
  "kernelspec": {
   "display_name": "Python 3",
   "language": "python",
   "name": "python3"
  },
  "language_info": {
   "codemirror_mode": {
    "name": "ipython",
    "version": 3
   },
   "file_extension": ".py",
   "mimetype": "text/x-python",
   "name": "python",
   "nbconvert_exporter": "python",
   "pygments_lexer": "ipython3",
   "version": "3.6.8"
  },
  "mimetype": "text/x-python",
  "name": "python",
  "npconvert_exporter": "python",
  "pygments_lexer": "ipython3",
  "version": 3
 },
 "nbformat": 4,
 "nbformat_minor": 2
}
