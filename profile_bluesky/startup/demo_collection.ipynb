{
 "cells": [
  {
   "cell_type": "code",
   "execution_count": 1,
   "metadata": {},
   "outputs": [
    {
     "name": "stderr",
     "output_type": "stream",
     "text": "I Wed-13:54:46 - ############################################################ startup\nI Wed-13:54:46 - logging started\nI Wed-13:54:46 - logging level = 10\nI Wed-13:54:46 - /home/prjemian/.ipython/profile_bluesky/startup/instrument/collection.py\nI Wed-13:54:46 - /home/prjemian/.ipython/profile_bluesky/startup/instrument/mpl/notebook.py\nActivating auto-logging. Current session state plus future input saved.\nFilename       : /home/prjemian/.ipython/profile_bluesky/startup/.logs/ipython_console.log\nMode           : rotate\nOutput logging : True\nRaw input log  : False\nTimestamping   : True\nState          : active\nI Wed-13:54:47 - check if soft IOCs are running\nI Wed-13:54:47 - /home/prjemian/.ipython/profile_bluesky/startup/instrument/iocs/check_iocs.py\nI Wed-13:54:47 - EPICS sky IOCs ready...\ncannot connect to IOC:float1.NAME\nI Wed-13:54:48 - EPICS registers IOC not running.  Starting now...\n 25904.IOC_registers (02/19/2020 01:54:48 PM) (Detached) 1 Socket in /run/screen/S-prjemian.\nD Wed-13:54:48 - registers IOC started\nI Wed-13:54:48 - No Sockets found in /run/screen/S-prjemian.\nI Wed-13:54:48 - bluesky framework\nI Wed-13:54:48 - /home/prjemian/.ipython/profile_bluesky/startup/instrument/framework/check_python.py\nI Wed-13:54:48 - /home/prjemian/.ipython/profile_bluesky/startup/instrument/framework/initialize.py\nLoading metadata history from /home/prjemian/.config/bluesky/bluesky_history.db\nI Wed-13:54:49 - /home/prjemian/.ipython/profile_bluesky/startup/instrument/framework/user_dir.py\nI Wed-13:54:49 - User code directory: /home/prjemian/.ipython/user\nI Wed-13:54:49 - /home/prjemian/.ipython/profile_bluesky/startup/instrument/framework/metadata.py\nI Wed-13:54:49 - /home/prjemian/.ipython/profile_bluesky/startup/instrument/framework/callbacks.py\nI Wed-13:54:49 - writing to SPEC file: /home/prjemian/.ipython/profile_bluesky/startup/20200219-135449.dat\nI Wed-13:54:49 -    >>>>   Using default SPEC file name   <<<<\nI Wed-13:54:49 -    file will be created when bluesky ends its next scan\nI Wed-13:54:49 -    to change SPEC file, use command:   newSpecFile('title')\nI Wed-13:54:49 - /home/prjemian/.ipython/profile_bluesky/startup/instrument/devices/calcs.py\nI Wed-13:54:51 - /home/prjemian/.ipython/profile_bluesky/startup/instrument/devices/goniometer.py\nI Wed-13:54:51 - /home/prjemian/.ipython/profile_bluesky/startup/instrument/devices/motors.py\nI Wed-13:54:52 - /home/prjemian/.ipython/profile_bluesky/startup/instrument/devices/my_registers.py\nI Wed-13:54:52 - /home/prjemian/.ipython/profile_bluesky/startup/instrument/devices/samplestage.py\nI Wed-13:54:52 - /home/prjemian/.ipython/profile_bluesky/startup/instrument/devices/scaler.py\nI Wed-13:54:53 - /home/prjemian/.ipython/profile_bluesky/startup/instrument/devices/signals.py\nI Wed-13:54:53 - /home/prjemian/.ipython/profile_bluesky/startup/instrument/devices/simdet.py\nI Wed-13:54:54 - /home/prjemian/.ipython/profile_bluesky/startup/instrument/devices/simulators.py\nI Wed-13:54:54 - /home/prjemian/.ipython/profile_bluesky/startup/instrument/plans/lineup.py\nI Wed-13:54:54 - /home/prjemian/.ipython/profile_bluesky/startup/instrument/utils/explorer.py\n"
    }
   ],
   "source": [
    "from instrument.collection import *"
   ]
  },
  {
   "cell_type": "code",
   "execution_count": null,
   "metadata": {},
   "outputs": [],
   "source": [
    "RE(bp.scan([noisy], m1, -2.1, 2.1, 23))\n",
    "%mov m1 peaks[\"cen\"][\"noisy\"]"
   ]
  },
  {
   "cell_type": "code",
   "execution_count": null,
   "metadata": {},
   "outputs": [],
   "source": [
    "hw = peaks[\"fwhm\"][\"noisy\"]\n",
    "RE(bp.rel_scan([noisy], m1, -hw, +hw, 23))\n",
    "%mov m1 peaks[\"cen\"][\"noisy\"]"
   ]
  }
 ],
 "metadata": {
  "kernelspec": {
   "display_name": "Python 3",
   "language": "python",
   "name": "python3"
  },
  "language_info": {
   "codemirror_mode": {
    "name": "ipython",
    "version": 3
   },
   "file_extension": ".py",
   "mimetype": "text/x-python",
   "name": "python",
   "nbconvert_exporter": "python",
   "pygments_lexer": "ipython3",
   "version": "3.7.6-final"
  }
 },
 "nbformat": 4,
 "nbformat_minor": 4
}