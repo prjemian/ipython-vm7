{
 "cells": [
  {
   "cell_type": "markdown",
   "metadata": {},
   "source": [
    "### Non-exhaustive test of E6C calculations: verify orientation, U, UB, and rotation directions\n",
    "\n",
    "#### with the aid of Yong Chu's mental math\n",
    "#### the TL;DR is that it appears to function as documented and as expected"
   ]
  },
  {
   "cell_type": "code",
   "execution_count": 1,
   "metadata": {},
   "outputs": [],
   "source": [
    "import pandas as pd\n",
    "import numpy as np\n",
    "import matplotlib.pyplot as plt\n",
    "\n",
    "import gi\n",
    "gi.require_version('Hkl', '5.0')\n",
    "\n",
    "from hkl.calc import CalcE6C\n",
    "from hkl.util import Lattice"
   ]
  },
  {
   "cell_type": "markdown",
   "metadata": {},
   "source": [
    "### Initialize the calculation engine"
   ]
  },
  {
   "cell_type": "code",
   "execution_count": 2,
   "metadata": {},
   "outputs": [],
   "source": [
    "sixc = CalcE6C(engine='hkl')\n",
    "sixc.engine.mode = 'constant_chi_vertical'\n",
    "sixc.wavelength = 1.  # nm"
   ]
  },
  {
   "cell_type": "markdown",
   "metadata": {},
   "source": [
    "### Setup the crystal lattice"
   ]
  },
  {
   "cell_type": "code",
   "execution_count": 3,
   "metadata": {},
   "outputs": [
    {
     "name": "stdout",
     "output_type": "stream",
     "text": [
      "lattice LatticeTuple(a=1.0, b=1.0, c=1.0, alpha=90.0, beta=90.0, gamma=90.0)\n",
      "physical axes OrderedDict([('mu', 0.0), ('omega', 0.0), ('chi', 0.0), ('phi', 0.0), ('gamma', 0.0), ('delta', 0.0)])\n",
      "pseudo axes OrderedDict([('h', 0.0), ('k', 0.0), ('l', 0.0)])\n",
      "omega parameter is CalcParameter(name='omega', limits=(-180.0, 180.0), value=0.0, fit=True, inverted=False, units='Degree')\n"
     ]
    }
   ],
   "source": [
    "lattice = Lattice(a=1, b=1, c=1, alpha=90, beta=90, gamma=90)\n",
    "sample = sixc.new_sample('sample0', lattice=lattice)\n",
    "\n",
    "print('lattice', sample.lattice)\n",
    "print('physical axes', sixc.physical_axes)\n",
    "print('pseudo axes', sixc.pseudo_axes)\n",
    "print('omega parameter is', sixc['omega'])"
   ]
  },
  {
   "cell_type": "markdown",
   "metadata": {},
   "source": [
    "### Compute the UB matrix from two reflections"
   ]
  },
  {
   "cell_type": "code",
   "execution_count": 4,
   "metadata": {},
   "outputs": [
    {
     "data": {
      "text/plain": [
       "1"
      ]
     },
     "execution_count": 4,
     "metadata": {},
     "output_type": "execute_result"
    }
   ],
   "source": [
    "# checking orientation of delta\n",
    "r1p = sixc.Position(mu=0.0, omega=30.0, chi=0.0, phi=0.0, gamma=0., delta=60.)\n",
    "r1 = sample.add_reflection(0, 0, 1, position=r1p)\n",
    "r2p = sixc.Position(mu=0.0, omega=120.0, chi=0.0, phi=0.0, gamma=0, delta=60.)\n",
    "r2 = sample.add_reflection(1, 0, 0, position=r2p)\n",
    "sample.compute_UB(r1, r2)"
   ]
  },
  {
   "cell_type": "code",
   "execution_count": 5,
   "metadata": {},
   "outputs": [
    {
     "data": {
      "text/plain": [
       "array([[ 1.00000000e+00, -3.74939946e-33,  6.12323400e-17],\n",
       "       [ 0.00000000e+00,  1.00000000e+00,  6.12323400e-17],\n",
       "       [-6.12323400e-17, -6.12323400e-17,  1.00000000e+00]])"
      ]
     },
     "execution_count": 5,
     "metadata": {},
     "output_type": "execute_result"
    }
   ],
   "source": [
    "sample.U"
   ]
  },
  {
   "cell_type": "code",
   "execution_count": 6,
   "metadata": {},
   "outputs": [
    {
     "data": {
      "text/plain": [
       "array([[ 6.28318531e+00, -3.84734139e-16,  0.00000000e+00],\n",
       "       [ 0.00000000e+00,  6.28318531e+00,  0.00000000e+00],\n",
       "       [-3.84734139e-16, -3.84734139e-16,  6.28318531e+00]])"
      ]
     },
     "execution_count": 6,
     "metadata": {},
     "output_type": "execute_result"
    }
   ],
   "source": [
    "sample.UB"
   ]
  },
  {
   "cell_type": "markdown",
   "metadata": {},
   "source": [
    "### pause to contemplate life and calculate some motor positions"
   ]
  },
  {
   "cell_type": "code",
   "execution_count": 7,
   "metadata": {},
   "outputs": [
    {
     "name": "stdout",
     "output_type": "stream",
     "text": [
      "pseudo should be (0,1,0) = (0.000000, 1.000000, 0.000000)\n"
     ]
    }
   ],
   "source": [
    "sixc.physical_positions = sixc.Position(mu=0.0, omega=30.0, chi=90.0, phi=0.0, gamma=0, delta=60.)\n",
    "pa = sixc.pseudo_axes\n",
    "print(f'pseudo should be (0,1,0) = ({pa[\"h\"]:f}, {pa[\"k\"]:f}, {pa[\"l\"]:f})')\n"
   ]
  },
  {
   "cell_type": "code",
   "execution_count": 8,
   "metadata": {},
   "outputs": [
    {
     "name": "stdout",
     "output_type": "stream",
     "text": [
      "pseudo should be (0,1,0) = (0.000000, 1.000000, 0.000000)\n"
     ]
    }
   ],
   "source": [
    "# checking orientation of delta\n",
    "sixc.physical_positions = sixc.Position(mu=30.0, omega=0.0, chi=0.0, phi=0.0, gamma=60., delta=0.)\n",
    "pa = sixc.pseudo_axes\n",
    "print(f'pseudo should be (0,1,0) = ({pa[\"h\"]:f}, {pa[\"k\"]:f}, {pa[\"l\"]:f})')\n"
   ]
  },
  {
   "cell_type": "code",
   "execution_count": 9,
   "metadata": {},
   "outputs": [
    {
     "name": "stdout",
     "output_type": "stream",
     "text": [
      "pseudo should be (0,-1,0) = (0.000000, -1.000000, 0.000000)\n"
     ]
    }
   ],
   "source": [
    "sixc.physical_positions = sixc.Position(mu=0, omega=30., chi=-90.0, phi=0.0, gamma=0., delta=60.)\n",
    "pa = sixc.pseudo_axes\n",
    "print(f'pseudo should be (0,-1,0) = ({pa[\"h\"]:f}, {pa[\"k\"]:f}, {pa[\"l\"]:f})')\n"
   ]
  },
  {
   "cell_type": "code",
   "execution_count": 10,
   "metadata": {},
   "outputs": [
    {
     "name": "stdout",
     "output_type": "stream",
     "text": [
      "pseudo should be (-1,0,0) = (-1.000000, 0.000000, 0.000000)\n"
     ]
    }
   ],
   "source": [
    "\n",
    "sixc.physical_positions = sixc.Position(mu=0.0, omega=-60.0, chi=0.0, phi=0.0, gamma=0, delta=60.)\n",
    "pa = sixc.pseudo_axes\n",
    "print(f'pseudo should be (-1,0,0) = ({pa[\"h\"]:f}, {pa[\"k\"]:f}, {pa[\"l\"]:f})')\n"
   ]
  },
  {
   "cell_type": "markdown",
   "metadata": {},
   "source": [
    "### Diffracting upside-down now\n",
    "#### Note that omega and phi only need to sum to +-120, which reflects what the inverse calculations from the library give"
   ]
  },
  {
   "cell_type": "code",
   "execution_count": 11,
   "metadata": {},
   "outputs": [
    {
     "name": "stdout",
     "output_type": "stream",
     "text": [
      "pseudo should be (1,0,0) = (1.000000, 0.000000, 0.000000)\n",
      "pseudo should be (1,0,0) = (1.000000, 0.000000, 0.000000)\n",
      "pseudo should be (1,0,0) = (1.000000, 0.000000, 0.000000)\n"
     ]
    }
   ],
   "source": [
    "sixc.physical_positions = sixc.Position(mu=0.0, omega=-50.0, chi=0.0, phi=-70.0, gamma=0, delta=-60.)\n",
    "pa = sixc.pseudo_axes\n",
    "print(f'pseudo should be (1,0,0) = ({pa[\"h\"]:f}, {pa[\"k\"]:f}, {pa[\"l\"]:f})')\n",
    "\n",
    "sixc.physical_positions = sixc.Position(mu=0.0, omega=-100.0, chi=0.0, phi=-20.0, gamma=0, delta=-60.)\n",
    "pa = sixc.pseudo_axes\n",
    "print(f'pseudo should be (1,0,0) = ({pa[\"h\"]:f}, {pa[\"k\"]:f}, {pa[\"l\"]:f})')\n",
    "\n",
    "sixc.physical_positions = sixc.Position(mu=0.0, omega=100.0, chi=0.0, phi=-220.0, gamma=0, delta=-60.)\n",
    "pa = sixc.pseudo_axes\n",
    "print(f'pseudo should be (1,0,0) = ({pa[\"h\"]:f}, {pa[\"k\"]:f}, {pa[\"l\"]:f})')"
   ]
  },
  {
   "cell_type": "code",
   "execution_count": 12,
   "metadata": {},
   "outputs": [
    {
     "name": "stdout",
     "output_type": "stream",
     "text": [
      "pseudo should be (0,1,1) = (0.000000, 1.000000, 1.000000)\n"
     ]
    }
   ],
   "source": [
    "sixc.physical_positions = sixc.Position(mu=0.0, omega=45.0, chi=45.0, phi=0.0, gamma=0, delta=90.)\n",
    "pa = sixc.pseudo_axes\n",
    "print(f'pseudo should be (0,1,1) = ({pa[\"h\"]:f}, {pa[\"k\"]:f}, {pa[\"l\"]:f})')"
   ]
  },
  {
   "cell_type": "code",
   "execution_count": 13,
   "metadata": {},
   "outputs": [
    {
     "name": "stdout",
     "output_type": "stream",
     "text": [
      "120.000000  120.000000\n",
      "-120.000000  120.000000\n"
     ]
    }
   ],
   "source": [
    "for sol in sixc.forward((1,0,0)):\n",
    "    both = sol.omega + sol.phi\n",
    "    print(f\"{both:f}  {abs(both):f}\")"
   ]
  }
 ],
 "metadata": {
  "kernelspec": {
   "display_name": "Python 3",
   "language": "python",
   "name": "python3"
  },
  "language_info": {
   "codemirror_mode": {
    "name": "ipython",
    "version": 3
   },
   "file_extension": ".py",
   "mimetype": "text/x-python",
   "name": "python",
   "nbconvert_exporter": "python",
   "pygments_lexer": "ipython3",
   "version": "3.7.6"
  }
 },
 "nbformat": 4,
 "nbformat_minor": 1
}
