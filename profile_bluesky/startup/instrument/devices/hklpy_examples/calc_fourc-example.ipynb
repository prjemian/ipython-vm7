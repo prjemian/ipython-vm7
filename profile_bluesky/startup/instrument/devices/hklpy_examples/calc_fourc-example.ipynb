{
 "cells": [
  {
   "cell_type": "markdown",
   "execution_count": null,
   "metadata": {},
   "outputs": [],
   "source": [
    "# Four-Circle example (E4C)"
   ]
  },
  {
   "cell_type": "code",
   "execution_count": 1,
   "metadata": {},
   "outputs": [],
   "source": [
    "import numpy as np\n",
    "import matplotlib.pyplot as plt\n",
    "\n",
    "import gi\n",
    "gi.require_version('Hkl', '5.0')\n",
    "\n",
    "from hkl.calc import CalcE4CV\n",
    "from hkl.util import Lattice\n",
    "\n",
    "import pyRestTable"
   ]
  },
  {
   "cell_type": "code",
   "execution_count": 2,
   "metadata": {},
   "outputs": [],
   "source": [
    "# initialize the calculation engine\n",
    "fourc_calc = CalcE4CV(engine='hkl')\n",
    "fourc_calc.engine.mode = 'bissector'\n",
    "fourc_calc.wavelength = 1.5420925870646767  # Cu Kalpha"
   ]
  },
  {
   "cell_type": "code",
   "execution_count": 3,
   "metadata": {},
   "outputs": [
    {
     "data": {
      "text/plain": "HklSample(name='Mn3O4/MgO thin film', lattice=LatticeTuple(a=5.72, b=5.72, c=9.5, alpha=90.0, beta=90.0, gamma=90.0), ux=Parameter(name='None (internally: ux)', limits=(min=-180.0, max=180.0), value=0.0, fit=True, inverted=False, units='Degree'), uy=Parameter(name='None (internally: uy)', limits=(min=-180.0, max=180.0), value=0.0, fit=True, inverted=False, units='Degree'), uz=Parameter(name='None (internally: uz)', limits=(min=-180.0, max=180.0), value=0.0, fit=True, inverted=False, units='Degree'), U=array([[1., 0., 0.],\n       [0., 1., 0.],\n       [0., 0., 1.]]), UB=array([[ 1.09845897e+00, -6.72612131e-17, -4.04983304e-17],\n       [ 0.00000000e+00,  1.09845897e+00, -4.04983304e-17],\n       [ 0.00000000e+00,  0.00000000e+00,  6.61387927e-01]]), reflections=[])"
     },
     "execution_count": 3,
     "metadata": {},
     "output_type": "execute_result"
    }
   ],
   "source": [
    "# add a sample\n",
    "fourc_calc.new_sample('Mn3O4/MgO thin film', \n",
    "    lattice=Lattice(\n",
    "        a=5.72, b=5.72, c=9.5, \n",
    "        alpha=90.0, beta=90.0, gamma=90.0))\n"
   ]
  },
  {
   "cell_type": "code",
   "execution_count": 4,
   "metadata": {},
   "outputs": [
    {
     "data": {
      "text/plain": "1"
     },
     "execution_count": 4,
     "metadata": {},
     "output_type": "execute_result"
    }
   ],
   "source": [
    "# use two known reflections to define the orientation\n",
    "r1 = fourc_calc.sample.add_reflection(\n",
    "    -1.998, -1.994, 4.011,\n",
    "    position=fourc_calc.Position(\n",
    "        tth=80.8769, omega=40.6148, chi=0.647, phi=-121.717))\n",
    "r2 = fourc_calc.sample.add_reflection(\n",
    "    -0.997, -0.997, 2.009,\n",
    "    position=fourc_calc.Position(\n",
    "        tth=28.695, omega=14.4651, chi=-48.8860, phi=-88.758))\n",
    "fourc_calc.sample.compute_UB(r1, r2)"
   ]
  },
  {
   "cell_type": "code",
   "execution_count": 5,
   "metadata": {},
   "outputs": [],
   "source": [
    "# define some constraints\n",
    "#        \"omega\": AxisConstraints(-120, 120, 0, True),\n",
    "#        \"chi\": AxisConstraints(-120, 120, 0, True),\n",
    "omega = fourc_calc['omega']\n",
    "omega.limits = (-120, 120)\n",
    "omega.value = 0\n",
    "omega.fit = True\n",
    "\n",
    "chi = fourc_calc['chi']\n",
    "chi.limits = (-120, 120)\n",
    "chi.value = 0\n",
    "chi.fit = True\n"
   ]
  },
  {
   "cell_type": "code",
   "execution_count": 28,
   "metadata": {},
   "outputs": [
    {
     "name": "stdout",
     "output_type": "stream",
     "text": "== == === ======== ======== ======== ========= ========\nh  k  l   solution omega    chi      phi       tth     \n== == === ======== ======== ======== ========= ========\n-2 -2 4   0        -30.0505 -0.6894  58.3246   -60.1009\n-2 -2 4   1        30.0505  0.6894   -121.6754 60.1009 \n-1 -1 2   0        -14.5001 -0.6894  58.3246   -29.0001\n-1 -1 2   1        14.5001  0.6894   -121.6754 29.0001 \n-2 1  1   0        18.1891  48.6540  -68.0790  36.3782 \n-2 1  1   1        -18.1891 -48.6540 111.9210  -36.3782\n-3 0  5   0        -34.9530 -16.9367 87.4333   -69.9061\n-3 0  5   1        34.9530  16.9367  -92.5667  69.9061 \n0  3  1   0        24.3594  12.2330  -7.3316   48.7188 \n0  3  1   1        -24.3594 -12.2330 172.6684  -48.7188\n0  3  0.5 0        23.9805  14.9737  -2.2851   47.9610 \n0  3  0.5 1        -23.9805 -14.9737 177.7149  -47.9610\n0  3  1.5 0        24.9813  9.5105   -12.0878  49.9627 \n0  3  1.5 1        -24.9813 -9.5105  167.9122  -49.9627\n== == === ======== ======== ======== ========= ========\n\n"
    }
   ],
   "source": [
    "# show motor positions at some hkl reflections\n",
    "reflections = (\n",
    "    (-2,-2,4), \n",
    "    (-1,-1,2), \n",
    "    (-2,1,1), \n",
    "    (-3,0,5), \n",
    "    (0,3,1), \n",
    "    (0,3,.5), \n",
    "    (0,3,1.5),\n",
    ")\n",
    "motors = \"omega chi phi tth\".split()\n",
    "tbl = pyRestTable.Table()\n",
    "tbl.labels = \"h k l solution\".split() + motors\n",
    "for ref in reflections:\n",
    "    for i, sol in enumerate(fourc_calc.forward(ref)):\n",
    "        row = list(ref) + [i,] + [f\"{getattr(sol, m):.4f}\" for m in motors]\n",
    "        tbl.addRow(row)\n",
    "print(tbl.reST(fmt=\"simple\"))"
   ]
  }
 ],
 "metadata": {
  "kernelspec": {
   "display_name": "Python 3",
   "language": "python",
   "name": "python3"
  },
  "language_info": {
   "codemirror_mode": {
    "name": "ipython",
    "version": 3
   },
   "file_extension": ".py",
   "mimetype": "text/x-python",
   "name": "python",
   "nbconvert_exporter": "python",
   "pygments_lexer": "ipython3",
   "version": "3.7.6-final"
  }
 },
 "nbformat": 4,
 "nbformat_minor": 4
}