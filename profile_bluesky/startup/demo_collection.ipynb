{
 "cells": [
  {
   "cell_type": "code",
   "execution_count": 1,
   "metadata": {},
   "outputs": [
    {
     "name": "stderr",
     "output_type": "stream",
     "text": [
      "I Wed-13:54:46 - ############################################################ startup\n",
      "I Wed-13:54:46 - logging started\n",
      "I Wed-13:54:46 - logging level = 10\n",
      "I Wed-13:54:46 - /home/prjemian/.ipython/profile_bluesky/startup/instrument/collection.py\n",
      "I Wed-13:54:46 - /home/prjemian/.ipython/profile_bluesky/startup/instrument/mpl/notebook.py\n",
      "Activating auto-logging. Current session state plus future input saved.\n",
      "Filename       : /home/prjemian/.ipython/profile_bluesky/startup/.logs/ipython_console.log\n",
      "Mode           : rotate\n",
      "Output logging : True\n",
      "Raw input log  : False\n",
      "Timestamping   : True\n",
      "State          : active\n",
      "I Wed-13:54:47 - check if soft IOCs are running\n",
      "I Wed-13:54:47 - /home/prjemian/.ipython/profile_bluesky/startup/instrument/iocs/check_iocs.py\n",
      "I Wed-13:54:47 - EPICS sky IOCs ready...\n",
      "cannot connect to IOC:float1.NAME\n",
      "I Wed-13:54:48 - EPICS registers IOC not running.  Starting now...\n",
      " 25904.IOC_registers (02/19/2020 01:54:48 PM) (Detached) 1 Socket in /run/screen/S-prjemian.\n",
      "D Wed-13:54:48 - registers IOC started\n",
      "I Wed-13:54:48 - No Sockets found in /run/screen/S-prjemian.\n",
      "I Wed-13:54:48 - bluesky framework\n",
      "I Wed-13:54:48 - /home/prjemian/.ipython/profile_bluesky/startup/instrument/framework/check_python.py\n",
      "I Wed-13:54:48 - /home/prjemian/.ipython/profile_bluesky/startup/instrument/framework/initialize.py\n",
      "Loading metadata history from /home/prjemian/.config/bluesky/bluesky_history.db\n",
      "I Wed-13:54:49 - /home/prjemian/.ipython/profile_bluesky/startup/instrument/framework/user_dir.py\n",
      "I Wed-13:54:49 - User code directory: /home/prjemian/.ipython/user\n",
      "I Wed-13:54:49 - /home/prjemian/.ipython/profile_bluesky/startup/instrument/framework/metadata.py\n",
      "I Wed-13:54:49 - /home/prjemian/.ipython/profile_bluesky/startup/instrument/framework/callbacks.py\n",
      "I Wed-13:54:49 - writing to SPEC file: /home/prjemian/.ipython/profile_bluesky/startup/20200219-135449.dat\n",
      "I Wed-13:54:49 -    >>>>   Using default SPEC file name   <<<<\n",
      "I Wed-13:54:49 -    file will be created when bluesky ends its next scan\n",
      "I Wed-13:54:49 -    to change SPEC file, use command:   newSpecFile('title')\n",
      "I Wed-13:54:49 - /home/prjemian/.ipython/profile_bluesky/startup/instrument/devices/calcs.py\n",
      "I Wed-13:54:51 - /home/prjemian/.ipython/profile_bluesky/startup/instrument/devices/goniometer.py\n",
      "I Wed-13:54:51 - /home/prjemian/.ipython/profile_bluesky/startup/instrument/devices/motors.py\n",
      "I Wed-13:54:52 - /home/prjemian/.ipython/profile_bluesky/startup/instrument/devices/my_registers.py\n",
      "I Wed-13:54:52 - /home/prjemian/.ipython/profile_bluesky/startup/instrument/devices/samplestage.py\n",
      "I Wed-13:54:52 - /home/prjemian/.ipython/profile_bluesky/startup/instrument/devices/scaler.py\n",
      "I Wed-13:54:53 - /home/prjemian/.ipython/profile_bluesky/startup/instrument/devices/signals.py\n",
      "I Wed-13:54:53 - /home/prjemian/.ipython/profile_bluesky/startup/instrument/devices/simdet.py\n",
      "I Wed-13:54:54 - /home/prjemian/.ipython/profile_bluesky/startup/instrument/devices/simulators.py\n",
      "I Wed-13:54:54 - /home/prjemian/.ipython/profile_bluesky/startup/instrument/plans/lineup.py\n",
      "I Wed-13:54:54 - /home/prjemian/.ipython/profile_bluesky/startup/instrument/utils/explorer.py\n"
     ]
    }
   ],
   "source": [
    "from instrument.collection import *"
   ]
  },
  {
   "cell_type": "code",
   "execution_count": null,
   "metadata": {},
   "outputs": [],
   "source": [
    "RE(bp.scan([noisy], m1, -2.1, 2.1, 23))\n",
    "%mov m1 peaks[\"cen\"][\"noisy\"]"
   ]
  },
  {
   "cell_type": "code",
   "execution_count": null,
   "metadata": {},
   "outputs": [],
   "source": [
    "hw = peaks[\"fwhm\"][\"noisy\"]\n",
    "RE(bp.rel_scan([noisy], m1, -hw, +hw, 23))\n",
    "%mov m1 peaks[\"cen\"][\"noisy\"]"
   ]
  }
 ],
 "metadata": {
  "kernelspec": {
   "display_name": "Python 3",
   "language": "python",
   "name": "python3"
  },
  "language_info": {
   "codemirror_mode": {
    "name": "ipython",
    "version": 3
   },
   "file_extension": ".py",
   "mimetype": "text/x-python",
   "name": "python",
   "nbconvert_exporter": "python",
   "pygments_lexer": "ipython3",
   "version": "3.6.8"
  }
 },
 "nbformat": 4,
 "nbformat_minor": 4
}
