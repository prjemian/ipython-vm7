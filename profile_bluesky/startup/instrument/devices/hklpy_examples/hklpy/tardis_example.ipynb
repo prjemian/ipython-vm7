{
 "cells": [
  {
   "cell_type": "markdown",
   "metadata": {},
   "source": [
    "# TARDIS Configuration\n",
    "\n",
    "* using the E6C geometry from libhkl\n",
    "    * @cmazzoli found that, in this geometry, with the \"lifting_detector_mu\" mode, the following mapping applies:\n",
    "    \n",
    "| libhkl | TARDIS |\n",
    "| :---:  | :---:  |\n",
    "| mu     | theta  |\n",
    "| gamma  | delta  |\n",
    "| delta  | gamma  |\n",
    "| phi    | None   |\n",
    "| chi    | None   |\n",
    "| omega  | None   |\n",
    "\n",
    "* The diffractometer geometry with angle and axis definitions are depicted below\n",
    "\n",
    "<img src=\"6c_diffractometer.png\" width=480 height=320>\n",
    "<img src=\"6c_angle_definitions.png\" width=480 height=320>\n",
    "\n",
    "* see [here](https://people.debian.org/~picca/hkl/diffractometers/e6c.html) for further documentation on libhkl\n",
    "\n",
    "    "
   ]
  },
  {
   "cell_type": "markdown",
   "metadata": {},
   "source": [
    "Begin by instantiating a calculation engine of the appropriate geometry, and configuring its mode as __lifting_detector_mu__ "
   ]
  },
  {
   "cell_type": "code",
   "execution_count": 1,
   "metadata": {},
   "outputs": [
    {
     "name": "stdout",
     "output_type": "stream",
     "text": [
      "Available modes = ['bissector_vertical', 'constant_omega_vertical', 'constant_chi_vertical', 'constant_phi_vertical', 'lifting_detector_phi', 'lifting_detector_omega', 'lifting_detector_mu', 'double_diffraction_vertical', 'bissector_horizontal', 'double_diffraction_horizontal', 'psi_constant_vertical', 'psi_constant_horizontal', 'constant_mu_horizontal']\n",
      "\n",
      "physical axes = OrderedDict([('mu', 0.0), ('omega', 0.0), ('chi', 0.0), ('phi', 0.0), ('gamma', 0.0), ('delta', 0.0)])\n",
      "\n",
      "pseudo axes = OrderedDict([('h', 0.0), ('k', 0.0), ('l', 0.0)])\n"
     ]
    }
   ],
   "source": [
    "import gi\n",
    "gi.require_version('Hkl', '5.0')\n",
    "\n",
    "\n",
    "from hkl.calc import CalcE6C\n",
    "\n",
    "tardis_calc = CalcE6C()\n",
    "\n",
    "# what modes are available?\n",
    "print('Available modes =', tardis_calc.engine.modes)\n",
    "print('\\nphysical axes =', tardis_calc.physical_axes)\n",
    "print('\\npseudo axes =', tardis_calc.pseudo_axes)"
   ]
  },
  {
   "cell_type": "code",
   "execution_count": 2,
   "metadata": {},
   "outputs": [],
   "source": [
    "tardis_calc.engine.mode = 'lifting_detector_mu'"
   ]
  },
  {
   "cell_type": "markdown",
   "metadata": {},
   "source": [
    "Next, seed the calculation engine with a parameterized sample and wavelength (or energy).\n",
    "\n",
    "**NOTE**: length units are in Angstrom, angles are in degrees, and energy is in keV."
   ]
  },
  {
   "cell_type": "code",
   "execution_count": 3,
   "metadata": {},
   "outputs": [
    {
     "name": "stdout",
     "output_type": "stream",
     "text": [
      "HklSample(name='sample1', lattice=LatticeTuple(a=9.069, b=9.069, c=10.39, alpha=90.0, beta=90.0, gamma=119.99999999999999), ux=Parameter(name='None (internally: ux)', limits=(min=-180.0, max=180.0), value=0.0, fit=True, inverted=False, units='Degree'), uy=Parameter(name='None (internally: uy)', limits=(min=-180.0, max=180.0), value=0.0, fit=True, inverted=False, units='Degree'), uz=Parameter(name='None (internally: uz)', limits=(min=-180.0, max=180.0), value=0.0, fit=True, inverted=False, units='Degree'), U=array([[1., 0., 0.],\n",
      "       [0., 1., 0.],\n",
      "       [0., 0., 1.]]), UB=array([[ 7.99999720e-01,  3.99999860e-01, -6.41365809e-17],\n",
      "       [ 0.00000000e+00,  6.92820080e-01, -6.41365809e-17],\n",
      "       [ 0.00000000e+00,  0.00000000e+00,  6.04733908e-01]]), reflections=[], reflection_measured_angles=array([], shape=(0, 0), dtype=float64), reflection_theoretical_angles=array([], shape=(0, 0), dtype=float64))\n"
     ]
    }
   ],
   "source": [
    "from hkl.util import Lattice\n",
    "\n",
    "# lattice cell lengths are in Angstrom, angles are in degrees\n",
    "lattice = Lattice(a=9.069, b=9.069, c=10.390, alpha=90.0, beta=90.0, gamma=120.0)\n",
    "sample = tardis_calc.new_sample('sample1', lattice=lattice)\n",
    "\n",
    "print(sample)"
   ]
  },
  {
   "cell_type": "code",
   "execution_count": 4,
   "metadata": {},
   "outputs": [
    {
     "name": "stdout",
     "output_type": "stream",
     "text": [
      "Energy = 0.7691422970508319 keV\n"
     ]
    }
   ],
   "source": [
    "tardis_calc.wavelength = 1.61198  # in Angstrom\n",
    "\n",
    "# just to check\n",
    "print('Energy =', tardis_calc.energy, 'keV')"
   ]
  },
  {
   "cell_type": "markdown",
   "metadata": {},
   "source": [
    "Now, apply constraints appropriate for TARDIS' geometry. This includes setting limits on the acceptable ranges of motion, initial (and constant!) values, and whether or not a particular axis should be factored into the fitting function that produces the forward and inverse solutions.\n",
    "\n",
    "**NOTE**: physical motors should be checked that limits are in place prior to initiating any motion. Note also that none of the calculations below are associated with any physical motors, and that there is no connection between \"limit\" values used in the calculation, and soft-limit values that may be present in a control system for physical motors."
   ]
  },
  {
   "cell_type": "code",
   "execution_count": 5,
   "metadata": {},
   "outputs": [],
   "source": [
    "# Theta\n",
    "mu = tardis_calc['mu']\n",
    "mu.limits = (-181, 181)\n",
    "mu.value = 0\n",
    "mu.fit = True\n",
    "\n",
    "# we don't have it. Fix to 0\n",
    "phi = tardis_calc['phi']\n",
    "phi.limits = (0, 0)\n",
    "phi.value = 0\n",
    "phi.fit = False\n",
    "\n",
    "# we don't have it. Fix to 0\n",
    "chi = tardis_calc['chi']\n",
    "chi.limits = (0, 0)\n",
    "chi.value = 0\n",
    "chi.fit = False\n",
    "\n",
    "# we don't have it!! Fix to 0\n",
    "omega = tardis_calc['omega']\n",
    "omega.limits = (0, 0)\n",
    "omega.value = 0\n",
    "omega.fit = False\n",
    "\n",
    "# Attention naming convention inverted at the detector stages!\n",
    "# delta\n",
    "gamma = tardis_calc['gamma']\n",
    "gamma.limits = (-5, 180)\n",
    "gamma.value = 0\n",
    "gamma.fit = True\n",
    "\n",
    "# gamma\n",
    "delta = tardis_calc['delta']\n",
    "delta.limits = (-5, 180)\n",
    "delta.value = 0\n",
    "delta.fit = True"
   ]
  },
  {
   "cell_type": "markdown",
   "metadata": {},
   "source": [
    "We can take a look at the UB matrix, but thus far, it won't be very interesting"
   ]
  },
  {
   "cell_type": "code",
   "execution_count": 6,
   "metadata": {
    "scrolled": true
   },
   "outputs": [
    {
     "data": {
      "text/plain": [
       "array([[ 7.99999720e-01,  3.99999860e-01, -6.41365809e-17],\n",
       "       [ 0.00000000e+00,  6.92820080e-01, -6.41365809e-17],\n",
       "       [ 0.00000000e+00,  0.00000000e+00,  6.04733908e-01]])"
      ]
     },
     "execution_count": 6,
     "metadata": {},
     "output_type": "execute_result"
    }
   ],
   "source": [
    "tardis_calc.sample.UB"
   ]
  },
  {
   "cell_type": "markdown",
   "metadata": {},
   "source": [
    "Add two, known reflections and the motor positions associated with those hkl values.\n",
    "Here, we are using values from @cmazolli's ESRF notes:\n",
    "\n",
    "```\n",
    "(3,3,0): del = 64.449, gam = -0.871, th = 25.285\n",
    "(5,2,0): del = 79.712, gam = -1.374, th = 46.816\n",
    "```\n",
    "\n",
    "**NOTE**: the translation of gamma==delta, delta==gamma, and mu==theta is being used"
   ]
  },
  {
   "cell_type": "code",
   "execution_count": 7,
   "metadata": {},
   "outputs": [],
   "source": [
    "r1 = tardis_calc.sample.add_reflection(3, 3, 0, \n",
    "                           position=tardis_calc.Position(gamma=64.449, mu=25.285, chi=0.0, phi=0.0, omega=0.0, delta=-0.871))\n",
    "\n",
    "r2 = tardis_calc.sample.add_reflection(5, 2, 0,\n",
    "                           position=tardis_calc.Position(gamma=79.712, mu=46.816, chi=0.0, phi=0.0, omega=0.0, delta=-1.374))"
   ]
  },
  {
   "cell_type": "code",
   "execution_count": 8,
   "metadata": {},
   "outputs": [
    {
     "data": {
      "text/plain": [
       "[(h=3.0, k=3.0, l=0.0), (h=5.0, k=2.0, l=0.0)]"
      ]
     },
     "execution_count": 8,
     "metadata": {},
     "output_type": "execute_result"
    }
   ],
   "source": [
    "tardis_calc.sample.reflections"
   ]
  },
  {
   "cell_type": "markdown",
   "metadata": {},
   "source": [
    "Now a UB matrix can be computed."
   ]
  },
  {
   "cell_type": "code",
   "execution_count": 9,
   "metadata": {},
   "outputs": [
    {
     "data": {
      "text/plain": [
       "1"
      ]
     },
     "execution_count": 9,
     "metadata": {},
     "output_type": "execute_result"
    }
   ],
   "source": [
    "tardis_calc.sample.compute_UB(r1, r2)"
   ]
  },
  {
   "cell_type": "code",
   "execution_count": 10,
   "metadata": {},
   "outputs": [
    {
     "data": {
      "text/plain": [
       "array([[ 0.31323551, -0.4807593 ,  0.01113654],\n",
       "       [ 0.73590724,  0.63942704,  0.01003773],\n",
       "       [-0.01798898, -0.00176066,  0.60454803]])"
      ]
     },
     "execution_count": 10,
     "metadata": {},
     "output_type": "execute_result"
    }
   ],
   "source": [
    "tardis_calc.sample.UB"
   ]
  },
  {
   "cell_type": "markdown",
   "metadata": {},
   "source": [
    "Compare some libhkl-generated results with those from @cmazolli's notes:\n",
    "\n",
    "```python\n",
    "# Experimentally found reflections @ Lambda = 1.61198 A\n",
    "# (4, 4, 0) = [90.628, 38.373, 0, 0, 0, -1.156]\n",
    "# (4, 1, 0) = [56.100, 40.220, 0, 0, 0, -1.091]\n",
    "# @ Lambda = 1.60911\n",
    "# (6, 0, 0) = [75.900, 61.000, 0, 0, 0, -1.637]\n",
    "# @ Lambda = 1.60954\n",
    "# (3, 2, 0) = [53.090, 26.144, 0, 0, 0, -.933]\n",
    "# (5, 4, 0) = [106.415, 49.900, 0, 0, 0, -1.535]\n",
    "# (4, 5, 0) = [106.403, 42.586, 0, 0, 0, -1.183]\n",
    "```"
   ]
  },
  {
   "cell_type": "code",
   "execution_count": 11,
   "metadata": {},
   "outputs": [
    {
     "name": "stdout",
     "output_type": "stream",
     "text": [
      "(PosCalcE6C(mu=38.37622128052063, omega=0.0, chi=0.0, phi=0.0, gamma=90.63030469353308, delta=-1.1613181970939916),)\n"
     ]
    }
   ],
   "source": [
    "print(tardis_calc.forward((4,4,0)))"
   ]
  },
  {
   "cell_type": "code",
   "execution_count": 12,
   "metadata": {},
   "outputs": [
    {
     "name": "stdout",
     "output_type": "stream",
     "text": [
      "(PosCalcE6C(mu=40.21991977757096, omega=0.0, chi=0.0, phi=0.0, gamma=56.09704093977082, delta=-1.083660865503293),)\n"
     ]
    }
   ],
   "source": [
    "print(tardis_calc.forward((4,1,0)))"
   ]
  },
  {
   "cell_type": "markdown",
   "metadata": {},
   "source": [
    "Change wavelength here to 1.60911 Angstrom.\n",
    "Note the difference below in `delta` (TARDIS' gamma axis)"
   ]
  },
  {
   "cell_type": "code",
   "execution_count": 13,
   "metadata": {},
   "outputs": [
    {
     "name": "stdout",
     "output_type": "stream",
     "text": [
      "(PosCalcE6C(mu=60.99346591074179, omega=0.0, chi=0.0, phi=0.0, gamma=75.84521749189147, delta=-1.5839501607961701),)\n"
     ]
    }
   ],
   "source": [
    "# change wavelength\n",
    "tardis_calc.wavelength = 1.60911\n",
    "print(tardis_calc.forward((6,0,0)))"
   ]
  },
  {
   "cell_type": "code",
   "execution_count": 14,
   "metadata": {},
   "outputs": [
    {
     "name": "stdout",
     "output_type": "stream",
     "text": [
      "(PosCalcE6C(mu=26.173823521308144, omega=0.0, chi=0.0, phi=0.0, gamma=53.05207622287554, delta=-0.8437995840438257),)\n",
      "(PosCalcE6C(mu=49.892322604056034, omega=0.0, chi=0.0, phi=0.0, gamma=106.32053081067252, delta=-1.423656049079967),)\n",
      "(PosCalcE6C(mu=42.54926633295045, omega=0.0, chi=0.0, phi=0.0, gamma=106.31894239326303, delta=-1.1854071532601609),)\n"
     ]
    }
   ],
   "source": [
    "tardis_calc.wavelength = 1.60954\n",
    "print(tardis_calc.forward((3,2,0)))\n",
    "print(tardis_calc.forward((5,4,0)))\n",
    "print(tardis_calc.forward((4,5,0)))"
   ]
  },
  {
   "cell_type": "markdown",
   "metadata": {},
   "source": [
    "# HKL PseudoPositioner Use\n",
    "\n",
    "Let's explore the idea of an hkl 'motor'"
   ]
  },
  {
   "cell_type": "code",
   "execution_count": 15,
   "metadata": {},
   "outputs": [
    {
     "ename": "TypeError",
     "evalue": "__init__() got an unexpected keyword argument 'energy'",
     "output_type": "error",
     "traceback": [
      "\u001b[0;31m---------------------------------------------------------------------------\u001b[0m",
      "\u001b[0;31mTypeError\u001b[0m                                 Traceback (most recent call last)",
      "\u001b[0;32m<ipython-input-15-18fbd658ce68>\u001b[0m in \u001b[0;36m<module>\u001b[0;34m\u001b[0m\n\u001b[1;32m     19\u001b[0m \u001b[0mtardis_calc\u001b[0m\u001b[0;34m.\u001b[0m\u001b[0m_lock_engine\u001b[0m \u001b[0;34m=\u001b[0m \u001b[0;32mTrue\u001b[0m\u001b[0;34m\u001b[0m\u001b[0;34m\u001b[0m\u001b[0m\n\u001b[1;32m     20\u001b[0m \u001b[0;34m\u001b[0m\u001b[0m\n\u001b[0;32m---> 21\u001b[0;31m \u001b[0mtardis\u001b[0m \u001b[0;34m=\u001b[0m \u001b[0mTardis\u001b[0m\u001b[0;34m(\u001b[0m\u001b[0;34m''\u001b[0m\u001b[0;34m,\u001b[0m \u001b[0mname\u001b[0m\u001b[0;34m=\u001b[0m\u001b[0;34m'tardis'\u001b[0m\u001b[0;34m,\u001b[0m \u001b[0mcalc_inst\u001b[0m\u001b[0;34m=\u001b[0m\u001b[0mtardis_calc\u001b[0m\u001b[0;34m,\u001b[0m \u001b[0menergy\u001b[0m\u001b[0;34m=\u001b[0m\u001b[0mtardis_calc\u001b[0m\u001b[0;34m.\u001b[0m\u001b[0menergy\u001b[0m\u001b[0;34m)\u001b[0m\u001b[0;34m\u001b[0m\u001b[0;34m\u001b[0m\u001b[0m\n\u001b[0m\u001b[1;32m     22\u001b[0m \u001b[0;34m\u001b[0m\u001b[0m\n\u001b[1;32m     23\u001b[0m \u001b[0;31m# re-map Tardis' axis names onto what an E6C expects\u001b[0m\u001b[0;34m\u001b[0m\u001b[0;34m\u001b[0m\u001b[0;34m\u001b[0m\u001b[0m\n",
      "\u001b[0;32m~/Apps/anaconda/envs/bluesky_2020_1/lib/python3.7/site-packages/hkl/diffract.py\u001b[0m in \u001b[0;36m__init__\u001b[0;34m(self, prefix, calc_kw, decision_fcn, calc_inst, configuration_attrs, read_attrs, **kwargs)\u001b[0m\n\u001b[1;32m    127\u001b[0m         super().__init__(prefix, read_attrs=read_attrs,\n\u001b[1;32m    128\u001b[0m                          \u001b[0mconfiguration_attrs\u001b[0m\u001b[0;34m=\u001b[0m\u001b[0mconfiguration_attrs\u001b[0m\u001b[0;34m,\u001b[0m\u001b[0;34m\u001b[0m\u001b[0;34m\u001b[0m\u001b[0m\n\u001b[0;32m--> 129\u001b[0;31m                          **kwargs)\n\u001b[0m\u001b[1;32m    130\u001b[0m \u001b[0;34m\u001b[0m\u001b[0m\n\u001b[1;32m    131\u001b[0m         \u001b[0;32mif\u001b[0m \u001b[0mread_attrs\u001b[0m \u001b[0;32mis\u001b[0m \u001b[0;32mNone\u001b[0m\u001b[0;34m:\u001b[0m\u001b[0;34m\u001b[0m\u001b[0;34m\u001b[0m\u001b[0m\n",
      "\u001b[0;32m~/Apps/anaconda/envs/bluesky_2020_1/lib/python3.7/site-packages/ophyd/pseudopos.py\u001b[0m in \u001b[0;36m__init__\u001b[0;34m(self, prefix, concurrent, read_attrs, configuration_attrs, name, egu, auto_target, **kwargs)\u001b[0m\n\u001b[1;32m    393\u001b[0m         super().__init__(prefix, read_attrs=read_attrs,\n\u001b[1;32m    394\u001b[0m                          \u001b[0mconfiguration_attrs\u001b[0m\u001b[0;34m=\u001b[0m\u001b[0mconfiguration_attrs\u001b[0m\u001b[0;34m,\u001b[0m\u001b[0;34m\u001b[0m\u001b[0;34m\u001b[0m\u001b[0m\n\u001b[0;32m--> 395\u001b[0;31m                          name=name, egu=egu, **kwargs)\n\u001b[0m\u001b[1;32m    396\u001b[0m \u001b[0;34m\u001b[0m\u001b[0m\n\u001b[1;32m    397\u001b[0m         self._real = [getattr(self, attr)\n",
      "\u001b[0;32m~/Apps/anaconda/envs/bluesky_2020_1/lib/python3.7/site-packages/ophyd/device.py\u001b[0m in \u001b[0;36m__init__\u001b[0;34m(self, prefix, name, kind, read_attrs, configuration_attrs, parent, **kwargs)\u001b[0m\n\u001b[1;32m    719\u001b[0m                              'used')\n\u001b[1;32m    720\u001b[0m \u001b[0;34m\u001b[0m\u001b[0m\n\u001b[0;32m--> 721\u001b[0;31m         \u001b[0msuper\u001b[0m\u001b[0;34m(\u001b[0m\u001b[0;34m)\u001b[0m\u001b[0;34m.\u001b[0m\u001b[0m__init__\u001b[0m\u001b[0;34m(\u001b[0m\u001b[0mname\u001b[0m\u001b[0;34m=\u001b[0m\u001b[0mname\u001b[0m\u001b[0;34m,\u001b[0m \u001b[0mparent\u001b[0m\u001b[0;34m=\u001b[0m\u001b[0mparent\u001b[0m\u001b[0;34m,\u001b[0m \u001b[0mkind\u001b[0m\u001b[0;34m=\u001b[0m\u001b[0mkind\u001b[0m\u001b[0;34m,\u001b[0m \u001b[0;34m**\u001b[0m\u001b[0mkwargs\u001b[0m\u001b[0;34m)\u001b[0m\u001b[0;34m\u001b[0m\u001b[0;34m\u001b[0m\u001b[0m\n\u001b[0m\u001b[1;32m    722\u001b[0m \u001b[0;34m\u001b[0m\u001b[0m\n\u001b[1;32m    723\u001b[0m         \u001b[0;31m# The logic of these if blocks is:\u001b[0m\u001b[0;34m\u001b[0m\u001b[0;34m\u001b[0m\u001b[0;34m\u001b[0m\u001b[0m\n",
      "\u001b[0;32m~/Apps/anaconda/envs/bluesky_2020_1/lib/python3.7/site-packages/ophyd/device.py\u001b[0m in \u001b[0;36m__init__\u001b[0;34m(self, *args, **kwargs)\u001b[0m\n\u001b[1;32m    408\u001b[0m         \u001b[0mself\u001b[0m\u001b[0;34m.\u001b[0m\u001b[0m_staged\u001b[0m \u001b[0;34m=\u001b[0m \u001b[0mStaged\u001b[0m\u001b[0;34m.\u001b[0m\u001b[0mno\u001b[0m\u001b[0;34m\u001b[0m\u001b[0;34m\u001b[0m\u001b[0m\n\u001b[1;32m    409\u001b[0m         \u001b[0mself\u001b[0m\u001b[0;34m.\u001b[0m\u001b[0m_original_vals\u001b[0m \u001b[0;34m=\u001b[0m \u001b[0mOrderedDict\u001b[0m\u001b[0;34m(\u001b[0m\u001b[0;34m)\u001b[0m\u001b[0;34m\u001b[0m\u001b[0;34m\u001b[0m\u001b[0m\n\u001b[0;32m--> 410\u001b[0;31m         \u001b[0msuper\u001b[0m\u001b[0;34m(\u001b[0m\u001b[0;34m)\u001b[0m\u001b[0;34m.\u001b[0m\u001b[0m__init__\u001b[0m\u001b[0;34m(\u001b[0m\u001b[0;34m*\u001b[0m\u001b[0margs\u001b[0m\u001b[0;34m,\u001b[0m \u001b[0;34m**\u001b[0m\u001b[0mkwargs\u001b[0m\u001b[0;34m)\u001b[0m\u001b[0;34m\u001b[0m\u001b[0;34m\u001b[0m\u001b[0m\n\u001b[0m\u001b[1;32m    411\u001b[0m \u001b[0;34m\u001b[0m\u001b[0m\n\u001b[1;32m    412\u001b[0m     \u001b[0;32mdef\u001b[0m \u001b[0mtrigger\u001b[0m\u001b[0;34m(\u001b[0m\u001b[0mself\u001b[0m\u001b[0;34m)\u001b[0m \u001b[0;34m->\u001b[0m \u001b[0mStatusBase\u001b[0m\u001b[0;34m:\u001b[0m\u001b[0;34m\u001b[0m\u001b[0;34m\u001b[0m\u001b[0m\n",
      "\u001b[0;32m~/Apps/anaconda/envs/bluesky_2020_1/lib/python3.7/site-packages/ophyd/positioner.py\u001b[0m in \u001b[0;36m__init__\u001b[0;34m(self, egu, limits, source, init_pos, **kwargs)\u001b[0m\n\u001b[1;32m    269\u001b[0m                  \u001b[0minit_pos\u001b[0m\u001b[0;34m=\u001b[0m\u001b[0;32mNone\u001b[0m\u001b[0;34m,\u001b[0m\u001b[0;34m\u001b[0m\u001b[0;34m\u001b[0m\u001b[0m\n\u001b[1;32m    270\u001b[0m                  **kwargs):\n\u001b[0;32m--> 271\u001b[0;31m         \u001b[0msuper\u001b[0m\u001b[0;34m(\u001b[0m\u001b[0;34m)\u001b[0m\u001b[0;34m.\u001b[0m\u001b[0m__init__\u001b[0m\u001b[0;34m(\u001b[0m\u001b[0;34m**\u001b[0m\u001b[0mkwargs\u001b[0m\u001b[0;34m)\u001b[0m\u001b[0;34m\u001b[0m\u001b[0;34m\u001b[0m\u001b[0m\n\u001b[0m\u001b[1;32m    272\u001b[0m \u001b[0;34m\u001b[0m\u001b[0m\n\u001b[1;32m    273\u001b[0m         \u001b[0mself\u001b[0m\u001b[0;34m.\u001b[0m\u001b[0m_egu\u001b[0m \u001b[0;34m=\u001b[0m \u001b[0megu\u001b[0m\u001b[0;34m\u001b[0m\u001b[0;34m\u001b[0m\u001b[0m\n",
      "\u001b[0;32m~/Apps/anaconda/envs/bluesky_2020_1/lib/python3.7/site-packages/ophyd/positioner.py\u001b[0m in \u001b[0;36m__init__\u001b[0;34m(self, name, parent, settle_time, timeout, **kwargs)\u001b[0m\n\u001b[1;32m     35\u001b[0m     def __init__(self, *, name=None, parent=None, settle_time=0.0,\n\u001b[1;32m     36\u001b[0m                  timeout=None, **kwargs):\n\u001b[0;32m---> 37\u001b[0;31m         \u001b[0msuper\u001b[0m\u001b[0;34m(\u001b[0m\u001b[0;34m)\u001b[0m\u001b[0;34m.\u001b[0m\u001b[0m__init__\u001b[0m\u001b[0;34m(\u001b[0m\u001b[0mname\u001b[0m\u001b[0;34m=\u001b[0m\u001b[0mname\u001b[0m\u001b[0;34m,\u001b[0m \u001b[0mparent\u001b[0m\u001b[0;34m=\u001b[0m\u001b[0mparent\u001b[0m\u001b[0;34m,\u001b[0m \u001b[0;34m**\u001b[0m\u001b[0mkwargs\u001b[0m\u001b[0;34m)\u001b[0m\u001b[0;34m\u001b[0m\u001b[0;34m\u001b[0m\u001b[0m\n\u001b[0m\u001b[1;32m     38\u001b[0m \u001b[0;34m\u001b[0m\u001b[0m\n\u001b[1;32m     39\u001b[0m         \u001b[0mself\u001b[0m\u001b[0;34m.\u001b[0m\u001b[0m_started_moving\u001b[0m \u001b[0;34m=\u001b[0m \u001b[0;32mFalse\u001b[0m\u001b[0;34m\u001b[0m\u001b[0;34m\u001b[0m\u001b[0m\n",
      "\u001b[0;31mTypeError\u001b[0m: __init__() got an unexpected keyword argument 'energy'"
     ]
    }
   ],
   "source": [
    "from ophyd import Component as Cpt\n",
    "from ophyd import (PseudoSingle, EpicsMotor)\n",
    "from hkl.diffract import E6C\n",
    "\n",
    "\n",
    "class Tardis(E6C):\n",
    "    h = Cpt(PseudoSingle, '')\n",
    "    k = Cpt(PseudoSingle, '')\n",
    "    l = Cpt(PseudoSingle, '')\n",
    "    \n",
    "    theta = Cpt(EpicsMotor, 'XF:31IDA-OP{Tbl-Ax:X1}Mtr')\n",
    "    omega = Cpt(EpicsMotor, 'XF:31IDA-OP{Tbl-Ax:X2}Mtr')\n",
    "    chi = Cpt(EpicsMotor, 'XF:31IDA-OP{Tbl-Ax:X3}Mtr')\n",
    "    phi = Cpt(EpicsMotor, 'XF:31IDA-OP{Tbl-Ax:X4}Mtr')\n",
    "    delta = Cpt(EpicsMotor, 'XF:31IDA-OP{Tbl-Ax:X5}Mtr')\n",
    "    gamma = Cpt(EpicsMotor, 'XF:31IDA-OP{Tbl-Ax:X6}Mtr')\n",
    "    \n",
    "# FIXME: hack to get around what should have been done at init of tardis_calc instance\n",
    "tardis_calc._lock_engine = True\n",
    "\n",
    "tardis = Tardis('', name='tardis', calc_inst=tardis_calc, energy=tardis_calc.energy)\n",
    "\n",
    "# re-map Tardis' axis names onto what an E6C expects\n",
    "name_map = {'mu': 'theta', 'omega': 'omega', 'chi': 'chi', 'phi': 'phi', 'gamma': 'delta', 'delta': 'gamma'}\n",
    "tardis.calc.physical_axis_names = name_map"
   ]
  },
  {
   "cell_type": "code",
   "execution_count": 32,
   "metadata": {},
   "outputs": [
    {
     "ename": "TypeError",
     "evalue": "Item 0: Must be number, not NoneType",
     "output_type": "error",
     "traceback": [
      "\u001b[1;31m---------------------------------------------------------------------------\u001b[0m",
      "\u001b[1;31mTypeError\u001b[0m                                 Traceback (most recent call last)",
      "\u001b[1;32m<ipython-input-32-082deb936e1b>\u001b[0m in \u001b[0;36m<module>\u001b[1;34m()\u001b[0m\n\u001b[1;32m----> 1\u001b[1;33m \u001b[0mtardis\u001b[0m\u001b[1;33m.\u001b[0m\u001b[0mposition\u001b[0m\u001b[1;33m\u001b[0m\u001b[0m\n\u001b[0m",
      "\u001b[1;32m/home/dchabot/Dropbox/workspace/ophyd_hkl/ophyd/pseudopos.py\u001b[0m in \u001b[0;36mposition\u001b[1;34m(self)\u001b[0m\n\u001b[0;32m    294\u001b[0m     \u001b[1;32mdef\u001b[0m \u001b[0mposition\u001b[0m\u001b[1;33m(\u001b[0m\u001b[0mself\u001b[0m\u001b[1;33m)\u001b[0m\u001b[1;33m:\u001b[0m\u001b[1;33m\u001b[0m\u001b[0m\n\u001b[0;32m    295\u001b[0m         \u001b[1;34m'''Pseudo motor position namedtuple'''\u001b[0m\u001b[1;33m\u001b[0m\u001b[0m\n\u001b[1;32m--> 296\u001b[1;33m         \u001b[1;32mreturn\u001b[0m \u001b[0mself\u001b[0m\u001b[1;33m.\u001b[0m\u001b[0minverse\u001b[0m\u001b[1;33m(\u001b[0m\u001b[0mself\u001b[0m\u001b[1;33m.\u001b[0m\u001b[0mreal_position\u001b[0m\u001b[1;33m)\u001b[0m\u001b[1;33m\u001b[0m\u001b[0m\n\u001b[0m\u001b[0;32m    297\u001b[0m \u001b[1;33m\u001b[0m\u001b[0m\n\u001b[0;32m    298\u001b[0m     \u001b[1;33m@\u001b[0m\u001b[0mproperty\u001b[0m\u001b[1;33m\u001b[0m\u001b[0m\n",
      "\u001b[1;32m/home/dchabot/Dropbox/workspace/hklpy/hkl/diffract.py\u001b[0m in \u001b[0;36minverse\u001b[1;34m(self, real)\u001b[0m\n\u001b[0;32m     98\u001b[0m \u001b[1;33m\u001b[0m\u001b[0m\n\u001b[0;32m     99\u001b[0m     \u001b[1;32mdef\u001b[0m \u001b[0minverse\u001b[0m\u001b[1;33m(\u001b[0m\u001b[0mself\u001b[0m\u001b[1;33m,\u001b[0m \u001b[0mreal\u001b[0m\u001b[1;33m)\u001b[0m\u001b[1;33m:\u001b[0m\u001b[1;33m\u001b[0m\u001b[0m\n\u001b[1;32m--> 100\u001b[1;33m         \u001b[0mpseudo\u001b[0m \u001b[1;33m=\u001b[0m \u001b[0mself\u001b[0m\u001b[1;33m.\u001b[0m\u001b[0m_calc\u001b[0m\u001b[1;33m.\u001b[0m\u001b[0minverse\u001b[0m\u001b[1;33m(\u001b[0m\u001b[0mreal\u001b[0m\u001b[1;33m)\u001b[0m\u001b[1;33m\u001b[0m\u001b[0m\n\u001b[0m\u001b[0;32m    101\u001b[0m         \u001b[1;32mreturn\u001b[0m \u001b[0mself\u001b[0m\u001b[1;33m.\u001b[0m\u001b[0mPseudoPosition\u001b[0m\u001b[1;33m(\u001b[0m\u001b[1;33m*\u001b[0m\u001b[0mpseudo\u001b[0m\u001b[1;33m)\u001b[0m\u001b[1;33m\u001b[0m\u001b[0m\n\u001b[0;32m    102\u001b[0m \u001b[1;33m\u001b[0m\u001b[0m\n",
      "\u001b[1;32m/home/dchabot/Dropbox/workspace/hklpy/hkl/calc.py\u001b[0m in \u001b[0;36minverse\u001b[1;34m(self, real)\u001b[0m\n\u001b[0;32m    319\u001b[0m         \u001b[1;32mwith\u001b[0m \u001b[0mself\u001b[0m\u001b[1;33m.\u001b[0m\u001b[0m_lock\u001b[0m\u001b[1;33m:\u001b[0m\u001b[1;33m\u001b[0m\u001b[0m\n\u001b[0;32m    320\u001b[0m             \u001b[0mengine\u001b[0m \u001b[1;33m=\u001b[0m \u001b[0mself\u001b[0m\u001b[1;33m.\u001b[0m\u001b[0mengine\u001b[0m\u001b[1;33m\u001b[0m\u001b[0m\n\u001b[1;32m--> 321\u001b[1;33m             \u001b[0mself\u001b[0m\u001b[1;33m.\u001b[0m\u001b[0mphysical_positions\u001b[0m \u001b[1;33m=\u001b[0m \u001b[0mreal\u001b[0m\u001b[1;33m\u001b[0m\u001b[0m\n\u001b[0m\u001b[0;32m    322\u001b[0m             \u001b[1;31m# self.update()  # done implicitly in setter\u001b[0m\u001b[1;33m\u001b[0m\u001b[1;33m\u001b[0m\u001b[0m\n\u001b[0;32m    323\u001b[0m             \u001b[1;32mreturn\u001b[0m \u001b[0mself\u001b[0m\u001b[1;33m.\u001b[0m\u001b[0mpseudo_positions\u001b[0m\u001b[1;33m\u001b[0m\u001b[0m\n",
      "\u001b[1;32m/home/dchabot/Dropbox/workspace/hklpy/hkl/calc.py\u001b[0m in \u001b[0;36mphysical_positions\u001b[1;34m(self, positions)\u001b[0m\n\u001b[0;32m    244\u001b[0m     \u001b[1;32mdef\u001b[0m \u001b[0mphysical_positions\u001b[0m\u001b[1;33m(\u001b[0m\u001b[0mself\u001b[0m\u001b[1;33m,\u001b[0m \u001b[0mpositions\u001b[0m\u001b[1;33m)\u001b[0m\u001b[1;33m:\u001b[0m\u001b[1;33m\u001b[0m\u001b[0m\n\u001b[0;32m    245\u001b[0m         \u001b[1;31m# Set the physical motor positions and calculate the pseudo ones\u001b[0m\u001b[1;33m\u001b[0m\u001b[1;33m\u001b[0m\u001b[0m\n\u001b[1;32m--> 246\u001b[1;33m         \u001b[0mself\u001b[0m\u001b[1;33m.\u001b[0m\u001b[0m_geometry\u001b[0m\u001b[1;33m.\u001b[0m\u001b[0maxis_values_set\u001b[0m\u001b[1;33m(\u001b[0m\u001b[0mpositions\u001b[0m\u001b[1;33m,\u001b[0m \u001b[0mself\u001b[0m\u001b[1;33m.\u001b[0m\u001b[0m_units\u001b[0m\u001b[1;33m)\u001b[0m\u001b[1;33m\u001b[0m\u001b[0m\n\u001b[0m\u001b[0;32m    247\u001b[0m         \u001b[0mself\u001b[0m\u001b[1;33m.\u001b[0m\u001b[0mupdate\u001b[0m\u001b[1;33m(\u001b[0m\u001b[1;33m)\u001b[0m\u001b[1;33m\u001b[0m\u001b[0m\n\u001b[0;32m    248\u001b[0m \u001b[1;33m\u001b[0m\u001b[0m\n",
      "\u001b[1;31mTypeError\u001b[0m: Item 0: Must be number, not NoneType"
     ]
    }
   ],
   "source": [
    "tardis.position"
   ]
  },
  {
   "cell_type": "code",
   "execution_count": null,
   "metadata": {},
   "outputs": [],
   "source": [
    "print('Energy =', tardis.energy, 'keV')"
   ]
  },
  {
   "cell_type": "code",
   "execution_count": null,
   "metadata": {},
   "outputs": [],
   "source": [
    "tardis.move((1,0,1), wait=False)"
   ]
  },
  {
   "cell_type": "code",
   "execution_count": null,
   "metadata": {
    "collapsed": true
   },
   "outputs": [],
   "source": [
    "status = _"
   ]
  },
  {
   "cell_type": "code",
   "execution_count": null,
   "metadata": {},
   "outputs": [],
   "source": [
    "status.done"
   ]
  },
  {
   "cell_type": "code",
   "execution_count": null,
   "metadata": {},
   "outputs": [],
   "source": [
    "tardis.real_position"
   ]
  },
  {
   "cell_type": "code",
   "execution_count": null,
   "metadata": {},
   "outputs": [],
   "source": [
    "tardis.position"
   ]
  },
  {
   "cell_type": "code",
   "execution_count": null,
   "metadata": {},
   "outputs": [],
   "source": [
    "#tardis.set((1,0,2))"
   ]
  },
  {
   "cell_type": "code",
   "execution_count": null,
   "metadata": {},
   "outputs": [],
   "source": [
    "tardis.h.describe()"
   ]
  },
  {
   "cell_type": "code",
   "execution_count": null,
   "metadata": {},
   "outputs": [],
   "source": [
    "tardis.h.read()"
   ]
  },
  {
   "cell_type": "code",
   "execution_count": null,
   "metadata": {},
   "outputs": [],
   "source": [
    "tardis.describe()"
   ]
  },
  {
   "cell_type": "code",
   "execution_count": null,
   "metadata": {},
   "outputs": [],
   "source": [
    "tardis.read()"
   ]
  },
  {
   "cell_type": "code",
   "execution_count": null,
   "metadata": {},
   "outputs": [],
   "source": [
    "tardis.position"
   ]
  },
  {
   "cell_type": "code",
   "execution_count": null,
   "metadata": {},
   "outputs": [],
   "source": [
    "tardis.real_position"
   ]
  }
 ],
 "metadata": {
  "kernelspec": {
   "display_name": "Python 3",
   "language": "python",
   "name": "python3"
  },
  "language_info": {
   "codemirror_mode": {
    "name": "ipython",
    "version": 3
   },
   "file_extension": ".py",
   "mimetype": "text/x-python",
   "name": "python",
   "nbconvert_exporter": "python",
   "pygments_lexer": "ipython3",
   "version": "3.7.6"
  }
 },
 "nbformat": 4,
 "nbformat_minor": 1
}
