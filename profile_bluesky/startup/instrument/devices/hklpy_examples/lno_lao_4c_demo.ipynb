{
 "cells": [
  {
   "cell_type": "markdown",
   "execution_count": null,
   "metadata": {},
   "outputs": [],
   "source": [
    "# Four-Circle example (E4C)\n",
    "\n",
    "This is a sample measured at APS 33BM using SPEC.\n",
    "Let's compare the *SPEC* values with *hklpy*.\n",
    "\n",
    "```\n",
    "sample: LNO_LAO\n",
    "crystal:  3.781726143 3.791444574 3.79890313 90.2546203 90.01815424 89.89967858\n",
    "geometry: fourc\n",
    "mode: 0 (Omega equals zero)\n",
    "lambda: 1.239424258\n",
    "r1: (0, 0, 2) 38.09875 19.1335 90.0135 0\n",
    "r2: (1, 1, 3) 65.644 32.82125 115.23625 48.1315\n",
    "Q: (2, 2, 1.9) 67.78225 33.891 145.985 48.22875 -0.001 -0.16\n",
    "UB: -1.658712442 0.09820024135 -0.000389705578\n",
    "    -0.09554990312 -1.654278629 0.00242844486\n",
    "    0.0002629818914 0.009815746824 1.653961812\n",
    "\n",
    "#F /.../LNO_LAO\n",
    "#E 1276730676\n",
    "#D Wed Jun 16 18:24:36 2010\n",
    "#C LNO_LAO  User = epix33bm\n",
    "#O0  2-theta     theta       chi       phi   antheta  an2theta    z-axis     m_1_8\n",
    "#O1      xt1       yt1       yt2       yt3     m_2_5       zt1      samx      samz\n",
    "#O2 DCM.theta       wst       wsl       wsb       wsr       m22  \n",
    "#G0 0 0 1 0 0 1 0 0 0 0 0 0 50 0 0.1 0 68 68 50 -1 1 1 3.13542 3.13542 0 463.6 838.8\n",
    "#G1 3.781726143 3.791444574 3.79890313 90.2546203 90.01815424 89.89967858 1.661462253 1.657219786 1.65396364 89.74541108 89.98229138 90.10024173 0 0 2 1 1 3 38.09875 19.1335 90.0135 0 0 0 65.644 32.82125 115.23625 48.1315 0 0 1.239424258 1.239424258\n",
    "#G3 -1.658712442 0.09820024135 -0.000389705578 -0.09554990312 -1.654278629 0.00242844486 0.0002629818914 0.009815746824 1.653961812\n",
    "#G4 1.999995696 1.999999878 1.899998938 1.239424258 18.09198724 18.2076099 0 89.92021031 0.7 0 0 0 0 0 0 0 -180 -180 -180 -180 -180 -180 -180 -180 -180 0\n",
    "#Q 2 2 1.9\n",
    "#P0 67.78225 33.891 145.985 48.22875 -0.001 -0.16 2.5 -0.2\n",
    "#P1 -3.4480499 0.49927508 0.030010083 0.499275 1.749425 -113.52071 -946.48814 0\n",
    "#P2 11.508019 2.9999781 30.000019 2.9999781 29.999854 1230.0415 \n",
    "#U DCM_energy 9.99904\n",
    "```"
   ]
  },
  {
   "cell_type": "code",
   "execution_count": 1,
   "metadata": {},
   "outputs": [
    {
     "data": {
      "text/plain": "0"
     },
     "execution_count": 1,
     "metadata": {},
     "output_type": "execute_result"
    }
   ],
   "source": [
    "import numpy as np\n",
    "import matplotlib.pyplot as plt\n",
    "\n",
    "import logging\n",
    "logger = logging.getLogger(\"notebook\")\n",
    "logger.setLevel(logging.INFO)\n",
    "\n",
    "import gi\n",
    "gi.require_version('Hkl', '5.0')\n",
    "\n",
    "from hkl.diffract import E4CV\n",
    "from hkl.util import Lattice\n",
    "\n",
    "from bluesky import plans as bp, RunEngine\n",
    "from bluesky.callbacks.best_effort import BestEffortCallback\n",
    "\n",
    "from ophyd import Component\n",
    "from ophyd import PseudoSingle\n",
    "from ophyd import SoftPositioner\n",
    "\n",
    "from apstools.diffractometer import Constraint, DiffractometerMixin\n",
    "\n",
    "import pyRestTable\n",
    "\n",
    "RE = RunEngine({})\n",
    "bec = BestEffortCallback()\n",
    "RE.subscribe(bec)"
   ]
  },
  {
   "cell_type": "code",
   "execution_count": 2,
   "metadata": {},
   "outputs": [],
   "source": [
    "# describe the diffractometer\n",
    "class FourCircleDiffractometer(DiffractometerMixin, E4CV):\n",
    "    h = Component(PseudoSingle, '', labels=(\"hkl\", \"fourc\"))\n",
    "    k = Component(PseudoSingle, '', labels=(\"hkl\", \"fourc\"))\n",
    "    l = Component(PseudoSingle, '', labels=(\"hkl\", \"fourc\"))\n",
    "\n",
    "    omega = Component(SoftPositioner, labels=(\"motor\", \"fourc\"))\n",
    "    chi   = Component(SoftPositioner, labels=(\"motor\", \"fourc\"))\n",
    "    phi   = Component(SoftPositioner, labels=(\"motor\", \"fourc\"))\n",
    "    tth   = Component(SoftPositioner, labels=(\"motor\", \"fourc\"))\n",
    "\n",
    "    def __init__(self, *args, **kwargs):\n",
    "        super().__init__(*args, **kwargs)\n",
    "\n",
    "        # since this diffractometer uses simulated motors,\n",
    "        # prime the SoftPositioners (motors) with initial values\n",
    "        # otherwise, position == None --> describe, etc gets borked\n",
    "        for axis in (self.omega, self.phi, self.chi, self.tth):\n",
    "            axis.move(0)"
   ]
  },
  {
   "cell_type": "markdown",
   "execution_count": null,
   "metadata": {},
   "outputs": [],
   "source": [
    "## setup the diffractometer"
   ]
  },
  {
   "cell_type": "code",
   "execution_count": 3,
   "metadata": {},
   "outputs": [
    {
     "name": "stdout",
     "output_type": "stream",
     "text": "energy (keV): 0.9999040000000001\nwavelength (A): 1.2399610362594808\nfourc modes: ['bissector', 'constant_omega', 'constant_chi', 'constant_phi', 'double_diffraction', 'psi_constant']\nselected mode: constant_omega\n"
    }
   ],
   "source": [
    "# initialize the calculation engine\n",
    "fourc = FourCircleDiffractometer('', name='fourc', labels=(\"diffractometer\", \"fourc\"))\n",
    "fourc.calc.engine.mode = \"constant_omega\"\n",
    "fourc.energy.put(9.99904*0.1)     # keV\n",
    "print(f\"energy (keV): {fourc.energy.value}\")\n",
    "#print(f\"energy (keV): {fourc.calc.energy}\")\n",
    "print(f\"wavelength (A): {fourc.calc.wavelength}\")\n",
    "\n",
    "print(f\"{fourc.name} modes: {fourc.engine.modes}\")\n",
    "print(f\"selected mode: {fourc.calc.engine.mode}\")"
   ]
  },
  {
   "cell_type": "code",
   "execution_count": 4,
   "metadata": {},
   "outputs": [
    {
     "data": {
      "text/plain": "Signal(name='fourc_energy', parent='fourc', value=0.9999040000000001, timestamp=1582851112.8946128)"
     },
     "execution_count": 4,
     "metadata": {},
     "output_type": "execute_result"
    }
   ],
   "source": [
    "fourc.energy"
   ]
  },
  {
   "cell_type": "markdown",
   "execution_count": null,
   "metadata": {},
   "outputs": [],
   "source": [
    "## define the crystal\n",
    "\n",
    "* sample: LNO_LAO\n",
    "* crystal:  3.781726143 3.791444574 3.79890313 90.2546203 90.01815424 89.89967858"
   ]
  },
  {
   "cell_type": "code",
   "execution_count": 5,
   "metadata": {},
   "outputs": [
    {
     "data": {
      "text/plain": "HklSample(name='LNO LAO', lattice=LatticeTuple(a=3.781726143, b=3.791444574, c=3.79890313, alpha=90.2546203, beta=90.01815424, gamma=89.89967858), ux=Parameter(name='None (internally: ux)', limits=(min=-180.0, max=180.0), value=0.0, fit=True, inverted=False, units='Degree'), uy=Parameter(name='None (internally: uy)', limits=(min=-180.0, max=180.0), value=0.0, fit=True, inverted=False, units='Degree'), uz=Parameter(name='None (internally: uz)', limits=(min=-180.0, max=180.0), value=0.0, fit=True, inverted=False, units='Degree'), U=array([[1., 0., 0.],\n       [0., 1., 0.],\n       [0., 0., 1.]]), UB=array([[ 1.66146225e+00, -2.89938471e-03,  5.11196668e-04],\n       [ 0.00000000e+00,  1.65721725e+00,  7.34922202e-03],\n       [ 0.00000000e+00,  0.00000000e+00,  1.65394723e+00]]), reflections=[])"
     },
     "execution_count": 5,
     "metadata": {},
     "output_type": "execute_result"
    }
   ],
   "source": [
    "# define the crystal\n",
    "fourc.calc.new_sample('LNO LAO', \n",
    "    lattice=Lattice(\n",
    "        a=3.781726143, b=3.791444574, c=3.79890313, \n",
    "        alpha=90.2546203, beta=90.01815424, gamma=89.89967858))"
   ]
  },
  {
   "cell_type": "markdown",
   "execution_count": null,
   "metadata": {},
   "outputs": [],
   "source": [
    "## Orient the crystal on the diffractometer\n",
    "\n",
    "from the SPEC data file (tth, th, chi, phi):\n",
    "\n",
    "* r1: (0, 0, 2) 38.09875 19.1335 90.0135 0\n",
    "* r2: (1, 1, 3) 65.644 32.82125 115.23625 48.1315"
   ]
  },
  {
   "cell_type": "code",
   "execution_count": 6,
   "metadata": {},
   "outputs": [
    {
     "data": {
      "text/plain": "1"
     },
     "execution_count": 6,
     "metadata": {},
     "output_type": "execute_result"
    }
   ],
   "source": [
    "# use two known reflections to define the orientation\n",
    "p1 = fourc.calc.Position(\n",
    "        tth=38.09875, omega=19.1335, chi=90.0135, phi=0)\n",
    "p2 = fourc.calc.Position(\n",
    "        tth=65.644, omega=32.82125, chi=115.23625, phi=48.1315)\n",
    "\n",
    "# index each the reflections by (hkl)\n",
    "r1 = fourc.calc.sample.add_reflection(\n",
    "    0, 0, 2,\n",
    "    position=p1)\n",
    "r2 = fourc.calc.sample.add_reflection(\n",
    "    1, 1, 3,\n",
    "    position=p2)\n",
    "\n",
    "# compute the orientation\n",
    "fourc.calc.sample.compute_UB(r1, r2)"
   ]
  },
  {
   "cell_type": "code",
   "execution_count": 7,
   "metadata": {},
   "outputs": [
    {
     "name": "stdout",
     "output_type": "stream",
     "text": "computed orientation UB matrix\n[[-9.55499011e-02 -1.65427863e+00  2.42844485e-03]\n [ 2.62981975e-04  9.81483906e-03  1.65396181e+00]\n [-1.65871244e+00  9.82002396e-02 -3.89705577e-04]]\ncompare with UB matrix computed in SPEC\n\nUB: -1.658712442 0.09820024135 -0.000389705578\n    -0.09554990312 -1.654278629 0.00242844486\n    0.0002629818914 0.009815746824 1.653961812\n\nsame values, different row order\n"
    }
   ],
   "source": [
    "print(\"computed orientation UB matrix\\n\", fourc.calc.sample.UB)\n",
    "\n",
    "print(\"compare with UB matrix computed in SPEC\")\n",
    "print(\"\"\"\n",
    "UB: -1.658712442 0.09820024135 -0.000389705578\n",
    "    -0.09554990312 -1.654278629 0.00242844486\n",
    "    0.0002629818914 0.009815746824 1.653961812\n",
    "\"\"\")\n",
    "print(\"same values, different row order\")"
   ]
  },
  {
   "cell_type": "markdown",
   "execution_count": null,
   "metadata": {},
   "outputs": [],
   "source": [
    "## Compare calculated values"
   ]
  },
  {
   "cell_type": "code",
   "execution_count": 8,
   "metadata": {},
   "outputs": [
    {
     "name": "stdout",
     "output_type": "stream",
     "text": "possible motor positions for each (hkl) reflection\n=========== ======== ======= ========= ======= =========\n(hkl)       solution omega   chi       phi     tth      \n=========== ======== ======= ========= ======= =========\n(2, 2, 1.9) 0        0.00000 -42.37958 5.92845 -67.81565\n(2, 2, 1.9) 1        0.00000 137.62042 5.92845 67.81565 \n=========== ======== ======= ========= ======= =========\n\n"
    }
   ],
   "source": [
    "# Q: (2, 2, 1.9) 67.78225 33.891 145.985 48.22875 -0.001 -0.16\n",
    "# tth th chi phi\n",
    "# Hey!  this (omega) is not zero!  Can't compute that with constant_omega mode\n",
    "\n",
    "print(\"possible motor positions for each (hkl) reflection\")\n",
    "print(fourc.forwardSolutionsTable(\n",
    "    (\n",
    "        (2, 2, 1.9),\n",
    "    ),\n",
    "    full=True\n",
    "))"
   ]
  },
  {
   "cell_type": "code",
   "execution_count": 9,
   "metadata": {},
   "outputs": [
    {
     "name": "stdout",
     "output_type": "stream",
     "text": "mode: bissector\n=========== ======== ========== ========== ========== =========\n(hkl)       solution omega      chi        phi        tth      \n=========== ======== ========== ========== ========== =========\n(2, 2, 1.9) 0        -33.90782  -34.01497  48.22884   -67.81565\n(2, 2, 1.9) 1        33.90782   34.01497   -131.77116 67.81565 \n(2, 2, 1.9) 2        33.90782   145.98503  48.22884   67.81565 \n(2, 2, 1.9) 3        -146.09218 -34.01497  48.22884   67.81565 \n(2, 2, 1.9) 4        -33.90782  -145.98503 -131.77116 -67.81565\n(2, 2, 1.9) 5        -146.09218 -145.98503 -131.77116 67.81565 \n=========== ======== ========== ========== ========== =========\n\nmode: constant_omega\n=========== ======== ======= ========= ======= =========\n(hkl)       solution omega   chi       phi     tth      \n=========== ======== ======= ========= ======= =========\n(2, 2, 1.9) 0        0.00000 -42.37958 5.92845 -67.81565\n(2, 2, 1.9) 1        0.00000 137.62042 5.92845 67.81565 \n=========== ======== ======= ========= ======= =========\n\nmode: constant_chi\n=========== ======== ===== === === ===\n(hkl)       solution omega chi phi tth\n=========== ======== ===== === === ===\n(2, 2, 1.9) none                      \n=========== ======== ===== === === ===\n\nmode: constant_phi\n=========== ======== ======== ========= ======= =========\n(hkl)       solution omega    chi       phi     tth      \n=========== ======== ======== ========= ======= =========\n(2, 2, 1.9) 0        4.27674  -45.37305 0.00000 -67.81565\n(2, 2, 1.9) 1        -4.27674 134.62695 0.00000 67.81565 \n=========== ======== ======== ========= ======= =========\n\nmode: double_diffraction\n=========== ======== ===== === === ===\n(hkl)       solution omega chi phi tth\n=========== ======== ===== === === ===\n(2, 2, 1.9) none                      \n=========== ======== ===== === === ===\n\nmode: psi_constant\n=========== ======== ========== ========= ========= =========\n(hkl)       solution omega      chi       phi       tth      \n=========== ======== ========== ========= ========= =========\n(2, 2, 1.9) 0        22.07718   -89.93394 -41.72657 -67.81565\n(2, 2, 1.9) 1        -22.07718  90.06606  -41.72657 67.81565 \n(2, 2, 1.9) 2        -157.92282 89.93394  138.27343 -67.81565\n(2, 2, 1.9) 3        157.92282  -90.06606 138.27343 67.81565 \n=========== ======== ========== ========= ========= =========\n\n"
    }
   ],
   "source": [
    "# check all available modes\n",
    "for mode in fourc.engine.modes:\n",
    "    fourc.calc.engine.mode = mode\n",
    "    print(f\"mode: {mode}\")\n",
    "    print(fourc.forwardSolutionsTable(\n",
    "        (\n",
    "            (2, 2, 1.9),\n",
    "        ),\n",
    "        full=True\n",
    "    ))"
   ]
  },
  {
   "cell_type": "code",
   "execution_count": 10,
   "metadata": {},
   "outputs": [],
   "source": [
    "fourc.calc.engine.mode = \"bissector\"\n",
    "\n",
    "solutions = fourc.calc.forward((2, 2, 1.9))"
   ]
  },
  {
   "cell_type": "code",
   "execution_count": 11,
   "metadata": {},
   "outputs": [
    {
     "name": "stdout",
     "output_type": "stream",
     "text": "-67.815649  -33.907825  -34.014970   48.228841 : RMS=235.33690755458932\n 67.815649   33.907825   34.014970  -131.771159 : RMS=211.98409457888116\n 67.815649   33.907825  145.985030   48.228841 : RMS=0.03739763689293413\n 67.815649  -146.092175  -34.014970   48.228841 : RMS=254.54652563532719\n-67.815649  -33.907825  -145.985030  -131.771159 : RMS=375.0065821698689\n 67.815649  -146.092175  -145.985030  -131.771159 : RMS=387.35050061460566\n"
    }
   ],
   "source": [
    "# Q: (2, 2, 1.9) 67.78225 33.891 145.985 48.22875 -0.001 -0.16\n",
    "spec = dict(tth=67.78225, omega=33.891, chi=145.985, phi=48.22875)\n",
    "\n",
    "import math\n",
    "\n",
    "for sol in solutions:\n",
    "    sum = (sol.tth - spec[\"tth\"])**2\n",
    "    sum += (sol.omega - spec[\"omega\"])**2\n",
    "    sum += (sol.chi - spec[\"chi\"])**2\n",
    "    sum += (sol.phi - spec[\"phi\"])**2\n",
    "    rms = math.sqrt(sum)\n",
    "    print(f\"{sol.tth:10f}  {sol.omega:10f}  {sol.chi:10f}  {sol.phi:10f} : RMS={rms}\")\n"
   ]
  },
  {
   "cell_type": "markdown",
   "execution_count": null,
   "metadata": {},
   "outputs": [],
   "source": [
    "## apply motion constraints\n",
    "\n",
    "Restrict to only non-negative angles"
   ]
  },
  {
   "cell_type": "code",
   "execution_count": 12,
   "metadata": {},
   "outputs": [
    {
     "name": "stdout",
     "output_type": "stream",
     "text": "revised constraints\n===== ========= ========== ===== ====\naxis  low_limit high_limit value fit \n===== ========= ========== ===== ====\nomega 0.0       180.0      0.0   True\nchi   0.0       180.0      0.0   True\nphi   0.0       180.0      0.0   True\ntth   0.0       180.0      0.0   True\n===== ========= ========== ===== ====\n\n"
    }
   ],
   "source": [
    "diffractometer_constraints = {\n",
    "    # axis:  Constraint(lo_limit, hi_limit, value, fit)\n",
    "    \"tth\":   Constraint(0, 180, 0, True),\n",
    "    \"omega\": Constraint(0, 180, 0, True),\n",
    "    \"chi\":   Constraint(0, 180, 0, True),\n",
    "    \"phi\":   Constraint(0, 180, 0, True),\n",
    "}\n",
    "\n",
    "fourc.applyConstraints(diffractometer_constraints)\n",
    "print(\"revised constraints\")\n",
    "fourc.showConstraints()"
   ]
  },
  {
   "cell_type": "code",
   "execution_count": 13,
   "metadata": {},
   "outputs": [
    {
     "name": "stdout",
     "output_type": "stream",
     "text": "=========== ======== ======== ========= ======== ========\n(hkl)       solution omega    chi       phi      tth     \n=========== ======== ======== ========= ======== ========\n(2, 2, 1.9) 0        33.90782 145.98503 48.22884 67.81565\n=========== ======== ======== ========= ======== ========\n\nSPEC angles for (2, 2, 1.9): {'tth': 67.78225, 'omega': 33.891, 'chi': 145.985, 'phi': 48.22875}\n"
    }
   ],
   "source": [
    "print(fourc.forwardSolutionsTable(\n",
    "    (\n",
    "        (2, 2, 1.9),\n",
    "    ),\n",
    "    full=True\n",
    "))\n",
    "print(f\"SPEC angles for (2, 2, 1.9): {spec}\")"
   ]
  },
  {
   "cell_type": "markdown",
   "execution_count": null,
   "metadata": {},
   "outputs": [],
   "source": [
    "## Summary\n",
    "\n",
    "The *Q* reflection computed by this *hklpy* code agrees with\n",
    "the SPEC data in the file when the diffractometer mode is set to `bissector`."
   ]
  },
  {
   "cell_type": "markdown",
   "execution_count": null,
   "metadata": {},
   "outputs": [],
   "source": [
    "That's so encouraging, let's spot-check a few more *Q* values from the data file.\n",
    "\n",
    "The diffractometer mode can change for each scan.  SPEC does not report the values of each motor at every step of an (hkl) scan, only at the start.  The (hkl) are in the `#Q` line, the motor positions are the first four values of the `#P0` line.  Here are some *Q* values from various scans in the data file:\n",
    "\n",
    "```\n",
    "#Q 0.000274545 -0.000143088 2\n",
    "#P0 38.084 19.133 90.0135 0 -0.001 -0.16 2.5 -0.2\n",
    "\n",
    "#Q 0 0 4\n",
    "#P0 81.46425 40.81625 90.0135 0 -0.001 -0.16 2.5 -0.2\n",
    "\n",
    "#Q 0.962396 1.0366 2.99979\n",
    "#P0 65.637 32.8185 115.20525 48.2855 -0.001 -0.16 2.5 -0.2\n",
    "\n",
    "#Q 1.00133 1.00133 2.99945\n",
    "#P0 65.644 32.82125 115.23625 48.1315 -0.001 -0.16 2.5 -0.2\n",
    "\n",
    "#Q 2 2 2.00001\n",
    "#P0 69.0675 34.53375 144.61725 48.2265 -0.001 -0.16 2.5 -0.2\n",
    "```"
   ]
  },
  {
   "cell_type": "code",
   "execution_count": 14,
   "metadata": {},
   "outputs": [
    {
     "name": "stdout",
     "output_type": "stream",
     "text": "mode: constant_phi\n============================== ======== ======== ======== ======= ========\n(hkl)                          solution omega    chi      phi     tth     \n============================== ======== ======== ======== ======= ========\n(0, 0, 2)                      0        19.13472 90.01350 0.00000 38.10119\n(0.000274545, -0.000143088, 2) 0        19.13836 90.02163 0.00000 38.10118\n(0, 0, 4)                      0        40.83762 90.01350 0.00000 81.50699\n============================== ======== ======== ======== ======= ========\n\nmode: bissector\n=========================== ======== ======== ========= ======== ========\n(hkl)                       solution omega    chi       phi      tth     \n=========================== ======== ======== ========= ======== ========\n(1, 1, 3)                   0        32.83450 115.20291 48.13305 65.66899\n(0.962396, 1.0366, 2.99979) 0        32.83454 115.20299 50.26719 65.66907\n(1.00133, 1.00133, 2.99945) 0        32.83798 115.23632 48.13326 65.67597\n(2, 2, 2)                   0        34.55082 144.61739 48.22651 69.10164\n(2, 2, 2.00001)             0        34.55088 144.61725 48.22651 69.10177\n=========================== ======== ======== ========= ======== ========\n\n"
    }
   ],
   "source": [
    "reflections = (\n",
    "        (0, 0, 2),\n",
    "        (0.000274545, -0.000143088, 2),\n",
    "        (0, 0, 4),\n",
    "    )\n",
    "fourc.phi.move(0)\n",
    "fourc.calc.engine.mode =\"constant_phi\"\n",
    "print(f\"mode: {fourc.calc.engine.mode}\")\n",
    "print(fourc.forwardSolutionsTable(\n",
    "    reflections,\n",
    "    full=True\n",
    "))\n",
    "\n",
    "reflections = (\n",
    "        (1, 1, 3),\n",
    "        (0.962396, 1.0366, 2.99979),\n",
    "        (1.00133, 1.00133, 2.99945),\n",
    "        (2, 2, 2),\n",
    "        (2, 2, 2.00001),\n",
    "    )\n",
    "fourc.calc.engine.mode =\"bissector\"\n",
    "print(f\"mode: {fourc.calc.engine.mode}\")\n",
    "print(fourc.forwardSolutionsTable(\n",
    "    reflections,\n",
    "    full=True\n",
    "))\n"
   ]
  },
  {
   "cell_type": "markdown",
   "metadata": {},
   "source": [
    "# Conclusion\n",
    "\n",
    "The simulation shows comparable position calculations between *hklpy* and *SPEC* for the orientation of this crystal.  Different diffractometer modes were used at various scans in the file."
   ]
  }
 ],
 "metadata": {
  "kernelspec": {
   "display_name": "Python 3",
   "language": "python",
   "name": "python3"
  },
  "language_info": {
   "codemirror_mode": {
    "name": "ipython",
    "version": 3
   },
   "file_extension": ".py",
   "mimetype": "text/x-python",
   "name": "python",
   "nbconvert_exporter": "python",
   "pygments_lexer": "ipython3",
   "version": "3.7.6-final"
  }
 },
 "nbformat": 4,
 "nbformat_minor": 4
}